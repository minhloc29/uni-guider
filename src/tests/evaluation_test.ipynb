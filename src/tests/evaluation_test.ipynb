{
 "cells": [
  {
   "cell_type": "code",
   "execution_count": 1,
   "id": "ba77c0f1",
   "metadata": {},
   "outputs": [
    {
     "name": "stdout",
     "output_type": "stream",
     "text": [
      "/Users/macbook/Documents/Code/uni-guider/src\n",
      "/Users/macbook/Documents/Code/uni-guider\n"
     ]
    },
    {
     "data": {
      "text/plain": [
       "'/Users/macbook/Documents/Code/uni-guider'"
      ]
     },
     "execution_count": 1,
     "metadata": {},
     "output_type": "execute_result"
    }
   ],
   "source": [
    "import os\n",
    "%cd ..\n",
    "%cd ..\n",
    "os.getcwd()"
   ]
  },
  {
   "cell_type": "code",
   "execution_count": 5,
   "id": "420534ef",
   "metadata": {},
   "outputs": [
    {
     "name": "stdout",
     "output_type": "stream",
     "text": [
      "Requirement already satisfied: faiss-cpu in /Users/macbook/miniconda3/envs/uni_guider/lib/python3.9/site-packages (1.10.0)\n",
      "Requirement already satisfied: numpy<3.0,>=1.25.0 in /Users/macbook/miniconda3/envs/uni_guider/lib/python3.9/site-packages (from faiss-cpu) (1.26.4)\n",
      "Requirement already satisfied: packaging in /Users/macbook/miniconda3/envs/uni_guider/lib/python3.9/site-packages (from faiss-cpu) (24.2)\n",
      "Note: you may need to restart the kernel to use updated packages.\n"
     ]
    }
   ],
   "source": [
    "%pip install faiss-cpu"
   ]
  },
  {
   "cell_type": "code",
   "execution_count": 4,
   "id": "7717bed9",
   "metadata": {},
   "outputs": [
    {
     "ename": "",
     "evalue": "",
     "output_type": "error",
     "traceback": [
      "\u001b[1;31mThe Kernel crashed while executing code in the current cell or a previous cell. \n",
      "\u001b[1;31mPlease review the code in the cell(s) to identify a possible cause of the failure. \n",
      "\u001b[1;31mClick <a href='https://aka.ms/vscodeJupyterKernelCrash'>here</a> for more info. \n",
      "\u001b[1;31mView Jupyter <a href='command:jupyter.viewOutput'>log</a> for further details."
     ]
    }
   ],
   "source": [
    "import faiss\n",
    "\n",
    "dim = len(hf.embed_query(\"Xin chào.\"))  # Get actual embedding dimension\n",
    "index = faiss.IndexFlatL2(dim)     "
   ]
  },
  {
   "cell_type": "code",
   "execution_count": 8,
   "id": "74fd624c",
   "metadata": {},
   "outputs": [],
   "source": [
    "import faiss\n",
    "\n",
    "index = faiss.IndexFlatL2(768)"
   ]
  },
  {
   "cell_type": "code",
   "execution_count": 17,
   "id": "468a1e36",
   "metadata": {},
   "outputs": [],
   "source": [
    "import src.chatbot.evaluation\n",
    "import importlib\n",
    "importlib.reload(src.chatbot.evaluation)\n",
    "from src.chatbot.evaluation import calculate_mrr\n",
    "from src.chatbot.utils import *\n",
    "import pandas as pd\n",
    "import faiss\n",
    "from langchain_community.docstore.in_memory import InMemoryDocstore\n",
    "from langchain_community.vectorstores import FAISS\n",
    "from uuid import uuid4\n",
    "from src.chatbot.rag.config import LLM_CONFIG, EMBEDDING_CONFIG\n",
    "from src.chatbot.rag.retrieval import retrieve_documents\n"
   ]
  },
  {
   "cell_type": "code",
   "execution_count": 11,
   "id": "e8a4e4d4",
   "metadata": {},
   "outputs": [],
   "source": [
    "data = load_doc_from_json(filename=\"data/chunking_documents.json\")"
   ]
  },
  {
   "cell_type": "code",
   "execution_count": 3,
   "id": "351529e2",
   "metadata": {},
   "outputs": [],
   "source": [
    "from langchain_huggingface import HuggingFaceEmbeddings\n",
    "from src.chatbot.rag.config import LLM_CONFIG, EMBEDDING_CONFIG\n",
    "\n",
    "model_kwargs = {'device': 'cpu'}\n",
    "encode_kwargs = {'normalize_embeddings': True}\n",
    "hf = HuggingFaceEmbeddings(\n",
    "    model_name=EMBEDDING_CONFIG[\"model_name\"],\n",
    "    model_kwargs=model_kwargs,\n",
    "    encode_kwargs=encode_kwargs\n",
    ")\n"
   ]
  },
  {
   "cell_type": "code",
   "execution_count": 6,
   "id": "34103505",
   "metadata": {},
   "outputs": [
    {
     "data": {
      "text/plain": [
       "768"
      ]
     },
     "execution_count": 6,
     "metadata": {},
     "output_type": "execute_result"
    }
   ],
   "source": [
    "len(hf.embed_query(\"Xin chao\"))"
   ]
  },
  {
   "cell_type": "code",
   "execution_count": 20,
   "id": "b6e36f66",
   "metadata": {},
   "outputs": [
    {
     "data": {
      "application/vnd.microsoft.datawrangler.viewer.v0+json": {
       "columns": [
        {
         "name": "index",
         "rawType": "int64",
         "type": "integer"
        },
        {
         "name": "context",
         "rawType": "object",
         "type": "string"
        },
        {
         "name": "question",
         "rawType": "object",
         "type": "string"
        },
        {
         "name": "answer",
         "rawType": "object",
         "type": "string"
        },
        {
         "name": "source_doc",
         "rawType": "object",
         "type": "string"
        },
        {
         "name": "evaluation",
         "rawType": "object",
         "type": "string"
        },
        {
         "name": "score",
         "rawType": "int64",
         "type": "integer"
        }
       ],
       "ref": "af78c33a-1bd3-42ca-951f-5e82e2890f74",
       "rows": [
        [
         "0",
         "Chương trình học bổng Daizo Tec năm học 2023-2024\nCăn cứ vào Thỏa thuận được ký kết giữa Công ty TNHH Daizo Tec và Trường Đại học Bách khoa Hà Nội về việc triển khai chương trình học bổng Daizo Tec; căn cứ tiêu chí xét chọn học bổng, Nhà trường xin thông báo Chương trình học bổng Daizo Tec với các nội dung sau:\nĐối tượng xét chọn:\nSinh viên K65 (trình độ năm thứ 3) thuộc các chuyên ngành: Kỹ thuật tàu thủy, Kỹ thuật cơ khí động lực – Phương tiện thủy thông minh, Kỹ thuật cơ khí, Kỹ thuật cơ điện tử (Trường Cơ khí); Kỹ thuật Điện, Kỹ thuật Điều khiển và Tự động Hóa (Trường Điện, Điện tử). Điểm trung bình tích lũy CPA từ 3.0 trở lên.",
         "Điểm trung bình tích lũy cần đạt để nhận học bổng Daizo Tec là bao nhiêu?",
         "Từ 3.0 trở lên",
         "https://ctsv.hust.edu.vn/#/hoc-bong/92/chi-tiet",
         "Ngữ cảnh nêu rõ điểm trung bình tích lũy cần đạt là 3.0 trở lên.",
         "5"
        ],
        [
         "1",
         "Điểm rèn luyện kì 20212 từ 70 trở lên. Ưu tiên sinh viên có hoàn cảnh khó khăn đạt kết quả học tập tốt. Số lượng học bổng: 02 suất. Trị giá 600 USD/suất. Cách thức đăng ký:\n+ Bước 1: Sinh viên đăng ký online đến trước ngày 15/4/2023 TẠI ĐÂY. + Bước 2: Sinh viên tham gia phỏng vấn với chuyên gia của Công ty. Lưu ý:\nHọc bổng Daizo Tec sẽ được trao vào tháng 9/2023 và sẽ được tính vào năm học 2023-2024. Sinh viên nhận Học bổng Daizo Tec sẽ không nhận Học bổng nào khác trong năm học 2023-2024. Sinh viên nhận học bổng Daizo Tec có nghĩa vụ phải viết báo cáo 02 lần/năm cho công ty về tình hình học tập tại trường.",
         "Học bổng Daizo Tec năm 2023-2024 trị giá bao nhiêu?",
         "600 USD/suất.",
         "https://ctsv.hust.edu.vn/#/hoc-bong/92/chi-tiet",
         "Ngữ cảnh nêu rõ trị giá học bổng Daizo Tec là 600 USD/suất và xác nhận học bổng này áp dụng cho năm học 2023-2024, trả lời trực tiếp và đầy đủ câu hỏi.",
         "5"
        ],
        [
         "2",
         "Học bổng Khuyến khích học tập học kỳ I năm học 2022-2023\nHọc bổng Khuyến khích học tập học kỳ 20221",
         "Học bổng Khuyến khích học tập là của học kỳ nào?",
         "học kỳ I năm học 2022-2023",
         "https://ctsv.hust.edu.vn/#/hoc-bong/91/chi-tiet",
         "Ngữ cảnh cung cấp rõ ràng thông tin về học kỳ của học bổng khuyến khích học tập, nêu cụ thể là học kỳ I năm học 2022-2023 và học kỳ 20221.",
         "5"
        ],
        [
         "4",
         "Chương trình học bổng LG Display năm học 2022-2023 (bổ sung)\nCăn cứ vào Thỏa thuận tài trợ học bổng giữa Công ty LG Display và trường ĐHBKHN về việc triển khai chương trình học bổng LG Display năm học 2022-2023, Nhà trường xin thông báo Chương trình học bổng như sau:\nDiện được đăng ký xét học bổng:\nLà sinh viên K64, K63, hệ đại học chính quy ngành Cơ khí (Trường Cơ khí); ngành Tự động hóa và ngành Kỹ thuật điện (Trường Điện – Điện tử) có đủ các điều kiện sau:\nCPA đến hết kỳ 2021.2 từ 2.5/4 trở lên;\nĐiểm rèn luyện kỳ 2021.2 từ 80/100 trở lên;\nKhông xét học bổng với SV đã nhận học bổng tài trợ khác trong năm học 2022-2023. Ưu tiên sinh viên có cam kết làm việc tại LG Display sau khi tốt nghiệp ít nhất 2 năm. Số lượng học bổng: Tổng số 51 suất (17 suất cho sinh viên mỗi ngành), trị giá 35.000.000 VND/suất. Quy trình đăng ký và hồ sơ xét cấp học bổng:\n- Sinh viên đăng ký online TẠI ĐÂY trước ngày 7/12/2022.",
         "Học bổng LG Display 2022-2023 trị giá bao nhiêu?",
         "35.000.000 VND/suất.",
         "https://ctsv.hust.edu.vn/#/hoc-bong/85/chi-tiet",
         "Ngữ cảnh cung cấp thông tin rõ ràng và chính xác về trị giá của mỗi suất học bổng LG Display năm học 2022-2023 là 35.000.000 VND.",
         "5"
        ],
        [
         "5",
         "- Sinh viên sau khi có kết quả xét vòng thứ 1 sẽ tham gia hội thảo và phỏng vấn trực tiếp với Công ty LG Display. - Sinh viên nộp hồ sơ bản cứng sau khi có kết quả phỏng vấn.",
         "Nộp hồ sơ bản cứng học bổng LG Display khi nào?",
         "Sau khi có kết quả phỏng vấn.",
         "https://ctsv.hust.edu.vn/#/hoc-bong/85/chi-tiet",
         "Ngữ cảnh nêu rõ thời điểm nộp hồ sơ bản cứng là \"sau khi có kết quả phỏng vấn\", trả lời trực tiếp và rõ ràng câu hỏi được đưa ra.",
         "5"
        ],
        [
         "6",
         "Chương trình học bổng Quỹ Châu Á Merali Foundation năm học 2022-2023\nCăn cứ vào thông tin về Chương trình học bổng Quỹ Châu Á Merali Foundation (khóa 3) bắt đầu từ tháng 1/2021, Nhà trường xin thông báo Chương trình học bổng như sau:\nĐối tượng xét chọn:\nSinh viên đủ các điều kiện xét chọn sau:\nSinh viên nữ khóa 65 thuộc các ngành kỹ thuật;\nCPA từ 2.5 và điểm rèn luyện từ 70 trở lên;\nCó hoàn cảnh gia đình thuộc hộ nghèo, cận nghèo, hoặc đặc biệt khó khăn năm 2022 (mồ côi cha mẹ, khuyết tật, …);\nLưu ý:\nKhông xét hồ sơ của sinh viên đang trong quá trình xét các học bổng tài trợ khác hoặc đã nhận học bổng tài trợ khác trong năm học 2022-2023. Sinh viên cam kết theo học và tham gia đầy đủ các hoạt động của chương trình học bổng.",
         "CPA yêu cầu cho học bổng Quỹ Châu Á Merali Foundation 2022-2023 là bao nhiêu?",
         "CPA từ 2.5 trở lên",
         "https://ctsv.hust.edu.vn/#/hoc-bong/84/chi-tiet",
         "Ngữ cảnh nêu rõ yêu cầu về CPA là từ 2.5 trở lên cho học bổng Quỹ Châu Á Merali Foundation năm học 2022-2023.",
         "5"
        ],
        [
         "7",
         "Số lượng và mức học bổng:\nSố lượng: 10 suất ;\nMức học bổng: 23.000.000đ/1 suất/1 năm và duy trì đến khi sinh viên ra trường nếu CPA các năm học tiếp theo từ 2.5 và điểm rèn luyện từ 70 trở lên. Ngoài ra, chương trình còn cung cấp các khóa đào tạo kỹ năng mềm, các hoạt động bổ trợ giúp các em sinh viên học tập tốt và phát triển bản thân. Phương thức đăng kí học bổng:\nBước 1: Sinh viên đăng ký online TẠI ĐÂY đến trước ngày 15/01/2023. Bước 2: Sinh viên vượt qua vòng hồ sơ online sẽ tham gia vòng phỏng vấn với Ban tuyển chọn vào tháng 1/2023. Bước 3: Sinh viên nộp hồ sơ bản cứng sau khi có kết quả phỏng vấn. Hồ sơ bản cứng bao gồm:\nĐơn xin cấp học bổng có xác nhận của trường đại học sinh viên đang theo học (theo mẫu);\nLý lịch tự thuật (theo mẫu);\nBản khai hoàn cảnh gia đình có xác nhận của chính quyền địa phương (theo mẫu);\nBản sao sổ hộ khẩu gia đình có công chứng;\nBản sao Hộ nghèo, Hộ cận nghèo (nếu có). *Lưu ý: Để biết thêm thông tin chi tiết hay có câu hỏi, đề nghị liên hệ:\nEmail: cedhanoi@ced.edu.vn\nNgười liên hệ: Hà Thị Thương (038 8706 696)",
         "Hạn đăng ký online học bổng Merali Foundation là khi nào?",
         "Trước ngày 15/01/2023.",
         "https://ctsv.hust.edu.vn/#/hoc-bong/84/chi-tiet",
         "Ngữ cảnh cung cấp thông tin rõ ràng về hạn chót đăng ký online là ngày 15/01/2023, trả lời trực tiếp câu hỏi được đưa ra.",
         "5"
        ],
        [
         "8",
         "Chương trình học bổng khóa học lấy chứng chỉ AI của Trường Đại học Bách khoa Hà Nội (bổ sung)\nCăn cứ vào thỏa thuận giữa Công ty TNHH Xã hội Chắp cánh CC Foundation (CCF) và Trường ĐHBK Hà Nội, Nhà trường thông báo Chương trình học bổng khóa học lấy chứng chỉ trí tuệ nhân tạo ứng dụngcho sinh viên của Trường như sau:\n1. Đối tượng được đăng ký xét học bổng có đồng thời các điều kiện sau:\n- Sinh viên năm thứ 3 trở lên thuộc các ngành kỹ thuật, công nghệ (trừ sinh viên Trường CNTT&TT);\n- Sinh viên có hoàn cảnh khó khăn (ưu tiên sinh viên thuộc hộ nghèo/ cận nghèo);\n- Có điểm CPA từ 2.5 trở lên và điểm rèn luyện tích lũy từ 65 trở lên;\n- Có kiến thức về ngôn ngữ lập trình C/C++ hoặc Python và xác suất thống kê. Lưu ý: SV đã nhận học bổng khác được đăng ký học bổng này; SV được nhận học bổng này không bị giới hạn đăng ký xét, nhận các học bổng khác. SV được nhận học bổng phải cam kết tham gia đầy đủ khóa học. 2. Số suất học bổng: 24 suất.",
         "Số lượng suất học bổng AI của Đại học Bách khoa Hà Nội là bao nhiêu?",
         "24 suất.",
         "https://ctsv.hust.edu.vn/#/hoc-bong/83/chi-tiet",
         "Ngữ cảnh nêu rõ số lượng suất học bổng là 24 suất, trả lời trực tiếp và đầy đủ câu hỏi.",
         "5"
        ],
        [
         "9",
         "3. Giá trị học bổng:\na) Học bổng toàn phần trị giá 5 triệu đồng (bằng 100% học phí của khóa học): Kết thúc khóa học nếu sinh viên tham dự đủ từ 75% thời lượng khóa học đồng thời thi đạt Chứng chỉ AI theo yêu cầu của chương trình đào tạo sẽ được hưởng học bổng toàn phần. b) Học bổng bán phần trị giá 2 triệu đồng (bằng 40% học phí của khóa học): Kết thúc khóa học nếu sinh viên thi không đạt chứng chỉ AI hoặc tham dự không đủ 75% thời lượng khóa học sẽ được hưởng học bổng bán phần và phải đóng phần học phí còn lại của khóa học là 3 triệu đồng (sinh viên làm cam kết trước khi tham gia chương trình). 4. Đăng ký và nộp hồ sơ:\nSinh viên làm đơn đăng ký xét học bổng theo mẫu (mẫu tải TẠI ĐÂY). Sau khi hoàn thành đơn, sinh viên đăng ký online TẠI ĐÂY trước ngày 2/12/2022. Sau thời gian trên Nhà trường sẽ xét hồ sơ và công bố kết quả. Sinh viên được học bổng hoàn thiện hồ sơ bản cứng và nộp cho Phòng Công tác Sinh viên. 5. Kế hoạch triển khai khóa học:\n- Thời gian khai giảng và bắt đầu khóa học: Dự kiến đầu tháng 12/2022\n- Thời lượng khóa học: 40 tiết (50% lý thuyết, 50% thực hành);\n- Thời gian học: Dự kiến 10 buổi x 4 tiết/buổi, 3 buổi/tuần (tối thứ tư, sáng thứ bảy và sáng chủ nhật hàng tuần);\n- Hình thức học: Học tập trên lớp (học theo hình thức offline). Mọi vấn đề thắc mắc xin liên hệ với cô Nguyễn Thị Anh Thư, chuyên viên Phòng CTSV để được hướng dẫn, giải đáp qua MS Teams thu.nguyenthianh@hust.edu.vn.",
         "Hạn chót đăng ký học bổng khóa học AI Bách khoa Hà Nội là khi nào?",
         "trước ngày 2/12/2022",
         "https://ctsv.hust.edu.vn/#/hoc-bong/83/chi-tiet",
         "Ngữ cảnh cung cấp rõ ràng thông tin về hạn chót đăng ký online học bổng là trước ngày 2/12/2022.",
         "5"
        ],
        [
         "10",
         "Chương trình học bổng tài trợ của Tập đoàn điện lực Sumitomo năm học 2022-2023\nCăn cứ vào thỏa thuận hợp tác tài trợ học bổng giữa Tập đoàn Sumitomo và trường ĐHBKHN; Nhà trường xin thông báo Chương trình học bổng Sumitomo năm học 2022-2023 với các nội dung sau:\nĐối tượng xét chọn:\nSinh viên hệ Kỹ sư K63-64-65-66 và hệ Cử nhân K64-65-66. Đối với học bổng cho sinh viên xuất sắc: CPA đến hết kì 2021.2 từ 3.2 trở lên, điểm rèn luyện trung bình năm học 2021-2022 từ 65 trở lên.",
         "CPA tối thiểu để nhận học bổng Sumitomo 2022-2023 là bao nhiêu?",
         "CPA đến hết kì 2021.2 từ 3.2 trở lên",
         "https://ctsv.hust.edu.vn/#/hoc-bong/82/chi-tiet",
         "Ngữ cảnh cung cấp rõ ràng thông tin về CPA tối thiểu cần thiết để nhận học bổng Sumitomo cho sinh viên xuất sắc trong năm học 2022-2023.",
         "5"
        ],
        [
         "11",
         "Đối với học bổng cho sinh viên có hoàn cảnh gia đình khó khăn: sinh viên thuộc hộ nghèo, cận nghèo hoặc hộ có hoàn cảnh khó khăn có xác nhận của chính quyền địa phương nơi sinh viên cư trú năm 2022, CPA đến hết kì 2021.2 từ 2.0 trở lên, điểm rèn luyện trung bình năm học 2021-2022 từ 65 trở lên;\nKhông xét cấp học bổng đối với sinh viên đã nhận học bổng tài trợ hoặc đang xét học bổng tài trợ khác năm học 2022-2023. Giá trị:\nSố lượng: 20 suất (05 suất cho sinh viên xuất sắc và 15 suất cho sinh viên có hoàn cảnh khó khăn). Giá trị: trị giá 10.000.000 đồng/suất. Sinh viên thực hiện các bước đăng ký học bổng sau:\nBước 1: Sinh viên đăng ký online tại đây trước ngày 10/12/2022. Bước 2: Sinh viên nộp hồ sơ minh chứng sau khi được thông báo kết quả vòng hồ sơ online. Hồ sơ bản cứng bao gồm:\nĐối với học bổng cho sinh viên xuất sắc: đơn xin cấp học bổng theo mẫu (không cần xin xác nhận của địa phương), bảng điểm CPA có xác nhận của Trường/Viện;\nĐối với học bổng cho sinh viên có hoàn cảnh gia đình khó khăn: đơn xin cấp học bổng theo mẫu, bảng điểm CPA có xác nhận của Trường/Viện; sổ hộ nghèo hoặc cận nghèo hoặc xác nhận của chính quyền về hoàn cảnh khó khăn của gia đình trong đơn xin cấp học bổng. * Lưu ý: Nếu có thắc mắc sinh viên liên hệ với tài khoản MS team: thu.nguyenthianh.",
         "Hạn chót đăng ký học bổng Sumitomo 2022-2023 là khi nào?",
         "trước ngày 10/12/2022",
         "https://ctsv.hust.edu.vn/#/hoc-bong/82/chi-tiet",
         "Ngữ cảnh nêu rõ hạn chót đăng ký online cho học bổng là trước ngày 10/12/2022, trả lời trực tiếp câu hỏi.",
         "5"
        ],
        [
         "12",
         "Chương trình học bổng của Qũy tài trợ Khát vọng tương lai năm học 2022-2023 (bổ sung)\nCăn cứ vào văn bản thỏa thuận giữa Quỹ tài trợ Khát vọng tương lai và Trường Đại học Bách khoa Hà Nội, Nhà trường xin thông báo Chương trình học bổng như sau:\nĐối tượng xét chọn:\nSinh viên đạt đồng thời các điều kiện sau được đăng ký xét học bổng;\nSinh viên năm 2, năm 3, năm 4;\nCó điểm trung bình tích lũy từ 3,2 trở lên;\nCó kết quả rèn luyện tích lũy từ 80 điểm trở lên;\nCó hoàn cảnh khó khăn hoặc có hoàn cảnh neo đơn có nguy cơ phải nghỉ học, hoặc sinh viên khuyết tật hoặc có sức khỏe yếu nhưng có ý chí vươn lên trong học tập. Lưu ý:\nKhông xét hồ sơ của sinh viên đang trong quá trình xét các học bổng tài trợ khác hoặc đã nhận học bổng khác trong năm học 2022-2023 (kể cả học bổng của nhà trường). Số lượng và mức học bổng:\nSố lượng: bổ sung 14 suất\nMức học bổng: 30.000.000đ/1 suất. Các bước đăng kí\nBước 1: Sinh viên đăng ký online tại đây đến hết ngày 27/11/2022. Bước 2: Sinh viên sẽ được thông báo để nộp hồ sơ bản cứng. Hồ sơ bản cứng bao gồm:\nBảng thông tin cá nhân có dán hình (theo mẫu trong link đăng ký);\nBảng điểm học tập (có xác nhận của trường);\nBảng photo các Giấy khen, chứng nhận về thành tích;\nGiấy chứng nhận hộ nghèo hoặc hộ cận nghèo năm 2022 (đối với đối tượng ưu tiên). Lưu ý: sinh viên không phải xin giấy xác nhận điểm rèn luyện khi đăng ký hồ sơ online và khi nộp hồ sơ bản cứng. Nếu có thắc mắc, các em liên hệ qua MS.",
         "Mức học bổng Khát vọng tương lai 2022-2023 là bao nhiêu?",
         "30.000.000đ/1 suất",
         "https://ctsv.hust.edu.vn/#/hoc-bong/81/chi-tiet",
         "Ngữ cảnh nêu rõ mức học bổng là 30.000.000đ/1 suất, trả lời trực tiếp câu hỏi.",
         "5"
        ],
        [
         "14",
         "Chương trình học bổng tài trợ của Công ty Nhật Minh năm học 2022-2023 (bổ sung)\nCăn cứ vào nội dung Thông báo của Công ty Nhật Minh gửi Trường Đại học Bách khoa Hà Nội về việc triển khai chương trình học bổng tài trợ năm học 2022-2023; căn cứ tiêu chí xét chọn học bổng, Nhà trường xin thông báo Chương trình học bổng của công ty Nhật Minh với các nội dung sau:\nĐối tượng xét chọn:\nSinh viên K63-64-65-66 các ngành: Cơ khí (Trường Cơ khí), Điều khiển và Tự động hóa (Trường Điện – Điện tử). Điểm GPA trung bình của 2 học kỳ: 20211 và 20212 từ 2.5 trở lên.",
         "GPA tối thiểu để nhận học bổng Nhật Minh 2022-2023 là bao nhiêu?",
         "2.5",
         "https://ctsv.hust.edu.vn/#/hoc-bong/80/chi-tiet",
         "Ngữ cảnh nêu rõ điểm GPA trung bình tối thiểu là 2.5 để nhận học bổng.",
         "5"
        ],
        [
         "17",
         "Sinh viên có thắc mắc về học bổng liên hệ qua MS Teams (thu.nguyenthianh@hust.edu.vn).",
         "Liên hệ ai để hỏi về học bổng Chắp cánh Bách khoa?",
         "thu.nguyenthianh@hust.edu.vn",
         "https://ctsv.hust.edu.vn/#/hoc-bong/79/chi-tiet",
         "Ngữ cảnh cung cấp địa chỉ email liên hệ cho các thắc mắc về học bổng nói chung, đây là thông tin liên hệ rất hữu ích và có khả năng cao là đúng cho học bổng cụ thể được hỏi. Tuy nhiên, ngữ cảnh không nêu tên học bổng cụ thể hay tên người liên hệ, chỉ cung cấp email.",
         "4"
        ],
        [
         "18",
         "Chương trình học bổng tài trợ năm học 2022-2023 của Tập đoàn Zeon\nCăn cứ vào Thông báo của Tập đoàn Zeon, Nhà trường xin thông báo Chương trình học bổng Zeon năm học 2022-2023 như sau:\nĐối tượng xét chọn:\nSinh viên đạt đồng thời các điều kiện sau được đăng ký xét học bổng:\nSinh viên Viện Kỹ thuật Hóa học, trình độ năm thứ 4 hoặc thứ 5;\nCó kết quả học tập trung bình CPA đến hết học kì 2021.2 từ 3.0 trở lên;\nCó kết quả rèn luyện học kỳ 2021.2 từ 70 điểm trở lên;\nCó khả năng tiếng Anh tương đương với TOEIC 500 điểm trở lên. Lưu ý:\nSinh viên không có nghĩa vụ vào làm việc cho Tập đoàn Zeon, nhưng có mong muốn phát huy kiến thức về hóa hữu cơ, polymer, vật liệu hóa học, hóa lý, hóa vô cơ, hóa học ứng dụng..., để làm việc trong lĩnh vực nghiên cứu cơ bản, nghiên cứu ứng dụng, khai thác sản phẩm mới, khai thác quy trình sản xuất tại viện nghiên cứu, nhà máy sản xuất của Zeon Corporation (tại Nhật Bản). Yêu thích Nhật Bản, có nguyện vọng sang Nhật làm việc sau khi tốt nghiệp.",
         "điểm trung bình học tập tối thiểu để xét học bổng zeon",
         "3.0 trở lên",
         "https://ctsv.hust.edu.vn/#/hoc-bong/78/chi-tiet",
         "Ngữ cảnh nêu rõ điều kiện về điểm học tập trung bình (CPA) là \"từ 3.0 trở lên\", trả lời trực tiếp câu hỏi về điểm trung bình tối thiểu.",
         "5"
        ],
        [
         "19",
         "Có định hướng làm việc ở nước ngoài trong tương lai. Không xét hồ sơ của sinh viên hệ liên thông (Cử nhân lên kỹ sư và Cao đẳng chuyển hệ). Không xét hồ sơ của sinh viên đang trong quá trình xét các học bổng tài trợ khác hoặc đã nhận học bổng tài trợ khác trong năm học 2022-2023. Số lượng và mức học bổng:\nSố lượng: 2 suất;\nMức học bổng: 600 USD/1 suất. Hướng dẫn đăng kí: Sinh viên chuẩn bị hồ sơ nộp trực tiếp như sau:\nHạn nộp hồ sơ: Ngày 24/11/2022. Địa chỉ nộp hồ sơ bản cứng: Phòng 103-C1. Sinh viên vượt qua xét chọn hồ sơ sẽ tham dự phỏng vấn online của Quỹ học bổng qua ZOOM bằng tiếng Anh. Hồ sơ bản cứng bao gồm:\nĐơn ứng tuyển học bổng theo mẫu (đánh máy, không viết tay);\nBảng điểm học tập có xác nhận CPA của Phòng Đào tạo hoặc Viện đào tạo;\nBản copy thẻ sinh viên;\nBản copy kết quả thi tiếng Anh TOEIC hoặc chứng chỉ tiếng Anh khác (nếu có);\nBản copy của bằng khen, giấy khen, bài báo khoa học đã đăng hoặc những chứng chỉ khác (nếu có). * Lưu ý: Nếu có thắc mắc, sinh viên liên hệ qua Ms Teams (thu.nguyenthianh) trong giờ hành chính.",
         "Hạn nộp hồ sơ học bổng Zeon là khi nào?",
         "Ngày 24/11/2022.",
         "https://ctsv.hust.edu.vn/#/hoc-bong/78/chi-tiet",
         "Ngữ cảnh cung cấp rõ ràng hạn nộp hồ sơ là ngày 24/11/2022.",
         "5"
        ],
        [
         "20",
         "Chương trình học bổng tài trợ VIETCHEM năm học 2022-2023\nCăn cứ vào văn bản thỏa thuận tài trợ học bổng giữa Công ty CP XNK Hóa chất và Thiết bị Kim Ngưu Vietchem và Trường Đại học Bách khoa Hà Nội, Nhà trường xin thông báo Chương trình học bổng VIETCHEM năm học 2022-2023 như sau:\nDiện được đăng ký xét học bổng:\nDành cho sinh viên K63, 64, 65, 66 thuộc các ngành Kỹ thuật hóa học (Viện Kỹ thuật Hóa học); Kỹ thuật sinh học (Viện Công nghệ Sinh học và Công nghệ Thực phẩm); Kỹ thuật Môi trường (Viện Khoa học và Công nghệ Môi trường); Kỹ thuật Cơ khí, Cơ điện tử (Trường Cơ khí); Điều khiển Tự động hóa (Trường Điện – Điện tử). - Có điểm trung bình học tập CPA đến hết kì 2021.2 từ 3.0 trở lên và điểm trung bình rèn luyện năm học 2021-2022 từ 70 điểm trở lên;\n- Các thành tích khác như chứng chỉ ngoại ngữ và các công trình nghiên cứu khoa học về Khoa học Tự nhiên và Kỹ thuật, đặc biệt là nghiên cứu trong lĩnh vực hóa chất cũng được xét ưu tiên khi tuyển chọn.",
         "Điểm CPA tối thiểu để đăng ký học bổng VIETCHEM 2022-2023 là bao nhiêu?",
         "3.0",
         "https://ctsv.hust.edu.vn/#/hoc-bong/77/chi-tiet",
         "Ngữ cảnh cung cấp thông tin rõ ràng về điểm CPA tối thiểu cần thiết để đăng ký học bổng VIETCHEM 2022-2023 là 3.0.",
         "5"
        ],
        [
         "21",
         "Lưu ý: không xét học bổng với các sinh viên đang trong quá trình xét các học bổng tài trợ khác; sinh viên đã được nhận học bổng tài trợ khác trong năm học 2022-2023. Số lượng học bổng: Tổng số 10 suất, trị giá 10.000.000 VNĐ/suất. Hồ sơ gồm có: tất cả hồ sơ minh chứng (theo yêu cầu) phải được scan thành 1 tập tin duy nhất có định dạng PDF theo quy định tên: Họ và tên- Mã số sinh viên - Tên trường (Ví dụ: Nguyễn Văn A- 1002345 – ĐHBKHN). Thứ tự các minh chứng trong tập tin như sau:\n- Đơn đăng ký Học bổng VIETCHEM;\n- Bản chụp CMND/CCCD 2 mặt;\n- Bản chụp thẻ sinh viên;\n- Bản scan (hoặc bản chụp) bảng điểm các học kỳ chính khóa nêu trong mục 2 phía trên;\n- Bản mềm các công trình nghiên cứu (chụp trang bìa, trang đầu bài báo và trang cuối bài báo) chưa được dùng để xét thành công học bổng các năm trước (nếu có);\n- Bản scan chứng chỉ ngoại ngữ (nếu có);\n- Bản scan giấy chứng nhận của hoạt động xã hội (nếu có);\n- Thư trình bày hoàn cảnh gia đình (nếu có). Quy trình đăng ký và hồ sơ xét cấp học bổng:\n- Sinh viên tải đơn xin học bổng điền form và gửi qua mail cho cán bộ phụ trách\n- Link tải Đơn xin học bổng: https://vietchem.com.vn/tin-tuc/cv-de-nghi-cap-hoc-bong-vietchem.html;\n- Email nhận Đơn xin học bổng: tuyendung@hoachat.com.vn;\n- Thời gian đăng ký trực tuyến: từ ngày 05/11/2022 đến hết ngày 30/11/2022;\n- Thời gian xét hồ sơ: 05/11/2022 – 30/11/2022\n- Ban Tổ chức sẽ công bố danh sách các em sinh viên được nhận học bổng trong tháng 12 năm 2022.",
         "Giá trị mỗi suất học bổng VIETCHEM là bao nhiêu?",
         "10.000.000 VNĐ.",
         "https://ctsv.hust.edu.vn/#/hoc-bong/77/chi-tiet",
         "Ngữ cảnh nêu rõ \"trị giá 10.000.000 VNĐ/suất\", trực tiếp trả lời câu hỏi về giá trị mỗi suất học bổng.",
         "5"
        ],
        [
         "22",
         "Chương trình học bổng tài trợ năm học 2022-2023 của Tập đoàn Điện lực Việt Nam EVN\nCăn cứ vào Thỏa thuận tài trợ học bổng giữa Tập đoàn Điện lực Việt Nam EVN và Trường ĐH Bách khoa Hà Nội, Nhà trường xin thông báo Chương trình học bổng EVN năm học 2022-2023 như sau:\nĐối tượng xét chọn:\nSinh viên đạt đồng thời các điều kiện sau được đăng ký xét học bổng:\nSinh viên K63 các ngành Kinh tế công nghiệp, Kỹ thuật điện, Kỹ thuật điện tử - viễn thông, Kỹ thuật điều khiển và tự động hóa, Kỹ thuật nhiệt, Khoa học máy tính, Công nghệ thông tin;\nCó kết quả học tập CPA cho đến hết học kì 20212 từ 3.2/4.0 trở lên;\nCó kết quả rèn luyện trung bình tích lũy đến hết kì 2021.2 từ 80 điểm trở lên;\nLưu ý:\nƯu tiên sinh viên có hoàn cảnh gia đình khó khăn;\nƯu tiên sinh viên có thành tích tham gia các hoạt động phong trào, hoạt động xã hội, thành tích nghiên cứu khoa học;\nKhông xét hồ sơ của sinh viên đang trong quá trình xét các học bổng tài trợ khác hoặc đã nhận học bổng tài trợ khác trong năm học 2022-2023. Số lượng và mức học bổng:\nSố lượng: 50 suất;\nMức học bổng: 10.000.000đ/1 suất.",
         "Số lượng suất học bổng EVN 2022-2023 là bao nhiêu?",
         "50 suất",
         "https://ctsv.hust.edu.vn/#/hoc-bong/76/chi-tiet",
         "Ngữ cảnh nêu rõ số lượng suất học bổng là 50 suất, trả lời trực tiếp câu hỏi.",
         "5"
        ],
        [
         "23",
         "Các bước đăng kí\nBước 1: Sinh viên đăng ký online tại đây trước 17h00, ngày 20/11/2022. Bước 2: Sinh viên vượt qua vòng 1 sẽ được thông báo nộp hồ sơ minh chứng để xét tiếp vòng thứ 2.",
         "Hạn chót đăng ký học bổng EVN 2022-2023 là khi nào?",
         "trước 17h00, ngày 20/11/2022",
         "https://ctsv.hust.edu.vn/#/hoc-bong/76/chi-tiet",
         "Ngữ cảnh cung cấp rõ ràng hạn chót đăng ký online cho học bổng EVN 2022-2023 là 17h00 ngày 20/11/2022.",
         "5"
        ],
        [
         "24",
         "Chương trình học bổng tài trợ của Công ty Toyota năm học 2022-2023\nCăn cứ Công văn số 5303/BGDDT-GDCTHSSV của Bộ Giáo dục & Đào tạo về việc triển khai chương trình học bổng tài trợ của Công ty Toyota, Nhà trường xin thông báo Chương trình học bổng năm 2022-2023 như sau:\nĐối tượng xét chọn:\nSinh viên đạt đồng thời các điều kiện sau được đăng ký xét học bổng;\nSinh viên năm 4, năm 5 Trường Cơ khí (ưu tiên ngành: Ô tô, Cơ khí) và Viện Khoa học & Công nghệ Môi trường;\nCó điểm trung bình năm học 2021-2022 từ 3,2 trở lên;\nCó kết quả rèn luyện học kỳ 20211 từ 70 điểm trở lên;\nLưu ý:\nƯu tiên sinh viên có hoàn cảnh khó khăn, con em đồng bào Dân tộc thiểu số, đạt kết quả cao trong NCKH;\nKhông xét hồ sơ của sinh viên đang trong quá trình xét các học bổng tài trợ khác hoặc đã nhận học bổng tài trợ khác trong năm học 2022-2023. Số lượng và mức học bổng:\nSố lượng: 8 suất (7 suất cho sinh viên Trường Cơ khí, 1 suất cho sinh viên Viện KH&CN Môi trường);\nMức học bổng: 6.000.000đ/1 suất.",
         "Mức học bổng Toyota 2022-2023 là bao nhiêu?",
         "6.000.000đ/1 suất.",
         "https://ctsv.hust.edu.vn/#/hoc-bong/75/chi-tiet",
         "Ngữ cảnh cung cấp rõ ràng thông tin về mức học bổng là 6.000.000đ/1 suất.",
         "5"
        ],
        [
         "25",
         "Các bước đăng kí\nBước 1: Sinh viên đăng ký online tại đây trước 17h00, ngày 28/10/2022. Bước 2: Sinh viên vượt qua vòng xét duyệt hồ sơ online sẽ nhận được email thông báo nộp hồ sơ minh chứng để xét duyệt vòng 2 trước ngày 31/10/2022.",
         "Hạn chót đăng ký online học bổng Toyota 2022-2023 là khi nào?",
         "17h00, ngày 28/10/2022",
         "https://ctsv.hust.edu.vn/#/hoc-bong/75/chi-tiet",
         "Ngữ cảnh cung cấp chính xác thời gian (17h00, ngày 28/10/2022) cho hạn chót đăng ký online, trả lời rõ ràng câu hỏi.",
         "5"
        ],
        [
         "26",
         "Chương trình học bổng LG Display năm học 2022-2023\nCăn cứ vào Thỏa thuận tài trợ học bổng giữa Công ty LG Display và trường ĐHBKHN về việc triển khai chương trình học bổng LG Display năm học 2022-2023, Nhà trường xin thông báo Chương trình học bổng như sau:\nDiện được đăng ký xét học bổng:\nLà sinh viên K64, K63, hệ đại học chính quy ngành Cơ khí (Trường Cơ khí); ngành Tự động hóa và ngành Kỹ thuật điện (Trường Điện – Điện tử) có đủ các điều kiện sau:\nCPA đến hết kỳ 2021.2 từ 2.5/4 trở lên;\nĐiểm rèn luyện kỳ 2021.2 từ 80/100 trở lên;\nKhông xét học bổng với SV đã nhận học bổng tài trợ khác trong năm học 2022-2023. Ưu tiên sinh viên có mong muốn làm việc tại LG Display sau khi tốt nghiệp. Số lượng học bổng: Tổng số 51 suất (17 suất cho sinh viên mỗi ngành), trị giá 35.000.000 VND/suất. Quy trình đăng ký và hồ sơ xét cấp học bổng:\n- Sinh viên đăng ký online TẠI ĐÂY trước ngày 10/11/2022.",
         "Số lượng học bổng LG Display 2022-2023 là bao nhiêu?",
         "Tổng số 51 suất",
         "https://ctsv.hust.edu.vn/#/hoc-bong/74/chi-tiet",
         "Ngữ cảnh cung cấp thông tin rõ ràng và chính xác về tổng số lượng học bổng LG Display năm học 2022-2023 là 51 suất, cùng với phân bổ cho từng ngành.",
         "5"
        ],
        [
         "27",
         "- Sinh viên sau khi có kết quả xét vòng thứ 1 sẽ tham gia phỏng vấn trực tiếp với Công ty LG Display. - Sinh viên nộp hồ sơ bản cứng sau khi có kết quả phỏng vấn.",
         "Khi nào sinh viên phỏng vấn học bổng LG Display?",
         "sau khi có kết quả xét vòng thứ 1",
         "https://ctsv.hust.edu.vn/#/hoc-bong/74/chi-tiet",
         "Ngữ cảnh nêu rõ thời điểm phỏng vấn là \"sau khi có kết quả xét vòng thứ 1\".",
         "5"
        ],
        [
         "30",
         "Chương trình học bổng Năng lượng tương lai năm học 2022-2023\nCăn cứ vào văn bản thỏa thuận giữa Trung tâm Giáo dục & Phát triển và Trường Đại học Bách khoa Hà Nội về việc triển khai chương trình học bổng Năng lượng tương lai, Nhà trường xin thông báo Chương trình học bổng như sau:\nĐối tượng xét chọn:\nSinh viên đạt đồng thời các điều kiện sau được đăng ký xét học bổng;\nSinh viên năm 2, năm 3, năm 4 Trường Điện – Điện tử, đang theo học các ngành điện, tự động hóa và nhiệt lạnh;\nCó điểm CPA đến hết kì 20212.2 từ 2,5 trở lên;\nCó kết quả rèn luyện học kỳ 2021.2 từ 70 điểm trở lên;\nLưu ý:\nƯu tiên sinh viên có hộ khẩu tỉnh Quảng Ninh;\nKhông xét hồ sơ của sinh viên đang trong quá trình xét các học bổng tài trợ khác hoặc đã nhận học bổng tài trợ khác trong năm học 2022-2023 (trừ các chương trình học bổng khóa học). Số lượng và mức học bổng:\nSố lượng: 10 suất;\nMức học bổng: 14.000.000đ/1 suất.",
         "Mức học bổng Năng lượng tương lai 2022-2023 là bao nhiêu?",
         "14.000.000đ/1 suất",
         "https://ctsv.hust.edu.vn/#/hoc-bong/72/chi-tiet",
         "Ngữ cảnh cung cấp thông tin rõ ràng và trực tiếp về mức học bổng là 14.000.000đ/1 suất.",
         "5"
        ],
        [
         "31",
         "Ngoài ra, sinh viên còn được tham gia các chương trình giao lưu, tập huấn kỹ năng, chương trình tình nguyện, trải nghiệm thực tế tại nhà máy nhiệt điện Mông Dương II do chương trình học bổng tổ chức. Các bước đăng kí\nBước 1: Sinh viên đăng ký online tại đây đến hết ngày 30/10/202. Bước 2: Sinh viên tham dự phỏng vấn của Hội đồng xét duyệt học bổng. Bước 3: Sinh viên nộp hồ sơ bản cứng sau khi có kết quả xét duyệt tại bước 2. Hồ sơ bản cứng bao gồm:\nĐơn đề nghị cấp học bổng theo mẫu;\nSơ yếu lý lịch có dán ảnh và có xác nhận của địa phương theo mẫu;\nBản khai hoàn cảnh gia đình có xác nhận của chính quyền địa phương theo mẫu;\nBản sao sổ hộ khẩu gia đình có công chứng;\nBảng điểm CPA đến hết kì 2021.2 có xác nhận của Phòng Đào tạo. * Lưu ý: Sinh viên quan tâm đến chương trình học bổng có thể liên hệ:\nTrung tâm Giáo dục và Phát triển\nTầng 18A, tòa nhà MD complex Tower, số 68 Nguyễn Cơ Thạch, Cầu Diễn, Nam Từ Liêm, Hà Nội\nĐiện thoại: (84-4) 3562 7494 - Fax: (84-4) 3540 1991\nEmail: cedhanoi@ced.edu.vn - Người liên hệ: Hà Thị Thương (038 8706 696)",
         "Hạn chót đăng ký online học bổng Năng lượng tương lai là ngày nào?",
         "30/10/202",
         "https://ctsv.hust.edu.vn/#/hoc-bong/72/chi-tiet",
         "Ngữ cảnh nêu rõ hạn chót đăng ký online là ngày 30/10/202.",
         "5"
        ],
        [
         "32",
         "Chương trình học bổng tài trợ năm học 2022-2023 của Qũy học bổng Posco TJ Park Foundation\nCăn cứ vào Thông báo của Quỹ học bổng Posco TJ Park Foundation, Nhà trường xin thông báo Chương trình học bổng Posco năm học 2022-2023 như sau:\nĐối tượng xét chọn:\nSinh viên đạt đồng thời các điều kiện sau được đăng ký xét học bổng:\nSinh viên K66 các ngành kỹ thuật (trừ sinh viên Viện Ngoại ngữ, Viện KT&QL);\nCó kết quả học tập CPA cho đến hết học kì 20212 từ 3.0/4.0 trở lên;\nCó kết quả rèn luyện học kỳ 20212 từ 70 điểm trở lên;\nHọc tối thiểu 12 tín chỉ trong tất cả các học kì đã học. Lưu ý:\nƯu tiên xét học bổng cho sinh viên Viện KH&KT Vật liệu.",
         "Điểm CPA tối thiểu để xét học bổng Posco 2022-2023 là bao nhiêu?",
         "3.0/4.0",
         "https://ctsv.hust.edu.vn/#/hoc-bong/71/chi-tiet",
         "Ngữ cảnh cung cấp thông tin rõ ràng về điểm CPA tối thiểu cần thiết để xét học bổng Posco 2022-2023 là 3.0/4.0.",
         "5"
        ],
        [
         "33",
         "Ưu tiên sinh viên nữ;\nKhông xét hồ sơ của sinh viên đang trong quá trình xét các học bổng tài trợ khác hoặc đã nhận học bổng tài trợ khác trong năm học 2022-2023. Số lượng và mức học bổng:\nSố lượng: 10 suất;\nMức học bổng: 1000 USD/1 suất. Các bước đăng kí\nBước 1: Sinh viên đăng ký online tại đây trước 17h00, ngày 18/10/2022. Bước 2: Sinh viên vượt qua vòng 1 sẽ được thông báo nộp hồ sơ minh chứng và sẽ tham gia vòng phỏng vấn trực tiếp với Hội đồng xét chọn học bổng.",
         "Hạn chót đăng ký học bổng Posco TJ Park Foundation 2022-2023 là khi nào?",
         "17h00, ngày 18/10/2022.",
         "https://ctsv.hust.edu.vn/#/hoc-bong/71/chi-tiet",
         "Ngữ cảnh cung cấp rõ ràng thông tin về hạn chót đăng ký học bổng là 17h00 ngày 18/10/2022.",
         "5"
        ],
        [
         "34",
         "Chương trình học bổng tài trợ của Công ty Nhật Minh năm học 2022-2023\nCăn cứ vào nội dung Thông báo của Công ty Nhật Minh gửi Trường Đại học Bách khoa Hà Nội về việc triển khai chương trình học bổng tài trợ năm học 2022-2023; căn cứ tiêu chí xét chọn học bổng, Nhà trường xin thông báo Chương trình học bổng của công ty Nhật Minh với các nội dung sau:\nĐối tượng xét chọn:\nSinh viên K63-64-65-66 các ngành: Cơ khí (Trường Cơ khí), Điều khiển và Tự động hóa (Trường Điện – Điện tử). Điểm GPA trung bình của 2 học kỳ: 20211 và 20212 từ 2.5 trở lên.",
         "Điểm GPA tối thiểu để nhận học bổng Nhật Minh 2022-2023 là bao nhiêu?",
         "từ 2.5 trở lên",
         "https://ctsv.hust.edu.vn/#/hoc-bong/70/chi-tiet",
         "Ngữ cảnh nêu rõ điểm GPA tối thiểu cần thiết là 2.5 trở lên.",
         "5"
        ],
        [
         "35",
         "Có kết quả rèn luyện trung bình của kỳ 20211 và kỳ 20212 từ 65 điểm trở lên. Có hoàn cảnh gia đình thuộc hộ nghèo, cận nghèo hoặc có hoàn cảnh khó khăn có xác nhận của địa phương năm 2022. Không xét hồ sơ của sinh viên đang trong quá trình xét các học bổng tài trợ khác hoặc đã nhận học bổng tài trợ khác trong năm học 2022-2023. Số lượng học bổng:\n07 suất cho sinh viên ngành Cơ khí, và 03 suất cho sinh viên ngành Điều khiển và Tự động hóa. Trị giá 10.000.000 đồng/suất/năm học. Mỗi tháng Công ty Nhật Minh sẽ chuyển 1.000.000 đồng/suất vào tài khoản của từng sinh viên. Các bước đăng ký học bổng:\nBước 1: Sinh viên đăng ký online TẠI ĐÂY trước ngày 15/10/2020\nBước 2: Sinh viên nộp hồ sơ bản cứng sau khi nhận được thông báo kết quả xét online. Hồ sơ gồm:\nĐơn xin học bổng (Sinh viên tự viết tay, không đánh máy). Sơ yếu lý lịch sinh viên (Phòng CTSV xác nhận). Sổ hộ nghèo, cận nghèo năm 2022 hoặc giấy xác nhận hoàn cảnh khó khăn của gia đình có xác nhận của địa phương năm 2022. Bảng điểm kết quả học tập có tính GPA kỳ 20201 và 20202 (Sinh viên xin bảng điểm có tính GPA tại Phòng Đào tạo).",
         "Học bổng Công ty Nhật Minh ngành Cơ khí có bao nhiêu suất?",
         "07 suất",
         "https://ctsv.hust.edu.vn/#/hoc-bong/70/chi-tiet",
         "Ngữ cảnh cung cấp rõ ràng số lượng suất học bổng của Công ty Nhật Minh dành cho sinh viên ngành Cơ khí là 07 suất.",
         "5"
        ],
        [
         "36",
         "Chương trình học bổng tài trợ Nitori năm học 2022-2023\nCăn cứ vào văn bản thỏa thuận giữa Quỹ học bổng Nitori quốc tế và Trường Đại học Bách khoa Hà Nội, Nhà trường xin thông báo Chương trình học bổng Nitori năm học 2022-2023 như sau:\nDiện được đăng ký xét học bổng:\nSinh viên K65, 66 thuộc các ngành: Kỹ thuật Cơ khí; Kỹ thuật Điện; Công nghệ Dệt, May; Quản trị kinh doanh và Ngôn ngữ Anh có đủ các điều kiện sau:\n- Điểm trung bình Kết quả học tập CPA đến hết kì 20212 từ 3.2 trở lên;\n- Tích cực tham gia các hoạt động xã hội;\n- Ưu tiên sinh viên có hoàn cảnh khó khăn đạt kết quả học tập tốt. Diện không được đăng ký xét học bổng:\nSinh viên thuộc một trong các diện sau sẽ không được xét cấp học bổng Nitori:\n- Sinh viên hệ liên thông (cử nhân lên kỹ sư, cao đẳng chuyển hệ);\n- Sinh viên chuẩn bị đi du học từ 01 tháng trở lên trong năm học 2022-2023;\n- Sinh viên đã có lương như nhân viên chính thức tại các công ty trong năm học 2022-2023;\n- Sinh viên đang trong quá trình xét các học bổng tài trợ khác; sinh viên đã được nhận học bổng tài trợ khác trong năm học 2022-2023. - Sinh viên phải còn thời hạn học tập tại trường ít nhất trong 1 năm học 2022-2023.",
         "Điểm trung bình tối thiểu để đăng ký học bổng Nitori là bao nhiêu?",
         "3.2 trở lên",
         "https://ctsv.hust.edu.vn/#/hoc-bong/69/chi-tiet",
         "Ngữ cảnh nêu rõ điểm trung bình tối thiểu (CPA) cần đạt để đăng ký học bổng Nitori là 3.2 trở lên.",
         "5"
        ],
        [
         "37",
         "Số lượng học bổng: Tổng số 20 suất, trị giá khoảng 13.000.000 VNĐ/suất. Quy trình đăng ký\n- Bước 1:  Sinh viên đăng ký online TẠI ĐÂY trước ngày 15/10/2022. - Bước 2: Sinh viên nộp hồ sơ bản cứng sau khi có kết quả vòng xét hồ sơ online.",
         "Số lượng học bổng Nitori là bao nhiêu?",
         "20 suất",
         "https://ctsv.hust.edu.vn/#/hoc-bong/69/chi-tiet",
         "Ngữ cảnh cung cấp thông tin rõ ràng và trực tiếp về số lượng học bổng, nêu rõ \"Tổng số 20 suất\".",
         "5"
        ],
        [
         "38",
         "Chương trình học bổng Murata năm học 2022-2023\nCăn cứ vào Thỏa thuận tài trợ học bổng giữa Công ty TNHH Murata Electronics Việt Nam và trường ĐHBKHN về việc triển khai chương trình học bổng Murata năm học 2022-2023, Nhà trường xin thông báo Chương trình học bổng như sau:\nDiện được đăng ký xét học bổng:\nLà sinh viên K62, K63, hệ đại học chính quy ngành Kỹ thuật điện tử viễn thông – Trường Điện – Điện tử có đủ các điều kiện sau:\n- CPA đến thời điểm xét học bổng từ 2.5/4 trở lên. - Điểm rèn luyện học kì 2021.1 từ 65 trở lên.",
         "Những sinh viên nào đủ điều kiện đăng ký học bổng Murata 2022-2023?",
         "Sinh viên K62, K63, hệ đại học chính quy ngành Kỹ thuật điện tử viễn thông – Trường Điện – Điện tử có CPA từ 2.5/4 trở lên và điểm rèn luyện học kì 2021.1 từ 65 trở lên.",
         "https://ctsv.hust.edu.vn/#/hoc-bong/68/chi-tiet",
         "Ngữ cảnh liệt kê rõ ràng và đầy đủ các tiêu chí đủ điều kiện đăng ký học bổng, bao gồm khóa học, ngành học, hệ đào tạo, điểm CPA và điểm rèn luyện.",
         "5"
        ],
        [
         "39",
         "- Có hoàn cảnh gia đình thuộc hộ nghèo, cận nghèo hoặc khó khăn (có xác nhận của địa phương năm 2022) và chưa được nhận bất kỳ học bổng tài trợ nào trong năm học 2022-2023. Lưu ý: sinh viên thuộc một trong các diện sau sẽ không được xét cấp học bổng: Sinh viên hệ liên thông (cử nhân lên kỹ sư, cao đẳng chuyển hệ); sinh viên đang trong quá trình xét các học bổng tài trợ khác, hoặc đã nhận học bổng tài trợ khác trong năm học 2022-2023. Số lượng học bổng: Tổng số 05 suất, trị giá 10.000.000 VND/suất. Quy trình đăng ký và hồ sơ xét cấp học bổng:\n- Sinh viên đăng ký online TẠI ĐÂY trước ngày 29/9/2022. - Sinh viên nộp hồ sơ bản cứng sau khi có kết quả xét online. - Hồ sơ bản cứng gồm có:\n+ Bản thông tin cá nhân của ứng viên nhận học bổng: Tải tại đây;\n+ Bản photo CMND;\n+ Bảng điểm CPA kì 2021.1 (có xác nhận của Phòng Đào tạo);\n+ Bản sao công chứng Giấy chứng nhận Hộ nghèo, Cận nghèo hoặc đơn trình bày hoàn cảnh khó khăn có xác nhận của chính quyền địa phương năm 2022.",
         "Học bổng Murata trị giá bao nhiêu?",
         "10.000.000 VND/suất.",
         "https://ctsv.hust.edu.vn/#/hoc-bong/68/chi-tiet",
         "Ngữ cảnh nêu rõ trị giá của mỗi suất học bổng là 10.000.000 VND.",
         "5"
        ],
        [
         "40",
         "Chương trình học bổng Lotte học kì I năm học 2022-2023\nCăn cứ vào Công văn của Quỹ Học bổng Lotte gửi Trường Đại học Bách khoa Hà Nội về việc triển khai chương trình học bổng Lotte học kì I năm học 2022-2023, Nhà trường xin thông báo Chương trình học bổng như sau:\nDiện được đăng ký xét học bổng:\nSinh viên K63 (hệ kỹ sư) và K64 thuộc các trường: Cơ khí (ngành Cơ khí, Cơ điện tử), Điện – Điện tử (ngành Điện, Tự động hóa), Công nghệ thông tin và Truyền thông có đủ các điều kiện sau:\n- Kết quả học tập GPA kỳ 2021.1 từ 3.2 trở lên (học bổng dành cho sinh viên có kết quả học tốt);\n- Kết quả học tập GPA kỳ 2021.1 từ 2.8 trở lên (học bổng dành cho sinh viên có hoàn cảnh khó khan, có xác nhận của chính quyền địa phương năm 2022);\n- Điểm rèn luyện học kì 2021.1 từ 70 trở lên. Lưu ý: sinh viên thuộc một trong các diện sau sẽ không được xét cấp học bổng: Sinh viên hệ liên thông (cử nhân lên kỹ sư, cao đẳng chuyển hệ); sinh viên đang trong quá trình xét các học bổng tài trợ khác, hoặc đã nhận học bổng tài trợ khác trong năm học 2022-2023.",
         "điểm GPA tối thiểu học bổng Lotte cho sinh viên học tốt",
         "3.2 trở lên",
         "https://ctsv.hust.edu.vn/#/hoc-bong/67/chi-tiet",
         "Ngữ cảnh nêu rõ yêu cầu về điểm GPA tối thiểu là 3.2 cho sinh viên có kết quả học tập tốt để xét học bổng.",
         "5"
        ],
        [
         "43",
         "3. Giá trị học bổng:\na) Học bổng toàn phần trị giá 5 triệu đồng (bằng 100% học phí của khóa học): Kết thúc khóa học nếu sinh viên tham dự đủ từ 75% thời lượng khóa học đồng thời thi đạt Chứng chỉ AI theo yêu cầu của chương trình đào tạo sẽ được hưởng học bổng toàn phần. b) Học bổng bán phần trị giá 2 triệu đồng (bằng 40% học phí của khóa học): Kết thúc khóa học nếu sinh viên thi không đạt chứng chỉ AI hoặc tham dự không đủ 75% thời lượng khóa học sẽ được hưởng học bổng bán phần và phải đóng phần học phí còn lại của khóa học là 3 triệu đồng (sinh viên làm cam kết trước khi tham gia chương trình). 4. Đăng ký và nộp hồ sơ:\nSinh viên làm đơn đăng ký xét học bổng theo mẫu (mẫu tải TẠI ĐÂY). Sau khi hoàn thành đơn, sinh viên đăng ký online TẠI ĐÂY trước ngày 10/09/2022. Sau thời gian trên Nhà trường sẽ xét hồ sơ và công bố kết quả. Sinh viên được học bổng hoàn thiện hồ sơ bản cứng và nộp cho Phòng Công tác Sinh viên. 5. Kế hoạch triển khai khóa học:\n- Thời gian khai giảng và bắt đầu khóa học: Dự kiến cuối tháng 9/2022\n- Thời lượng khóa học: 40 tiết (50% lý thuyết, 50% thực hành);\n- Thời gian học: Dự kiến 10 buổi x 4 tiết/buổi, 3 buổi/tuần (tối thứ tư, sáng thứ bảy và sáng chủ nhật hàng tuần);\n- Hình thức học: Học tập trên lớp (học theo hình thức offline). Mọi vấn đề thắc mắc xin liên hệ với cô Nguyễn Thị Anh Thư, chuyên viên Phòng CTSV để được hướng dẫn, giải đáp qua MS Teams thu.nguyenthianh@hust.edu.vn.",
         "Hạn chót đăng ký học bổng AI Bách khoa là khi nào?",
         "Trước ngày 10/09/2022",
         "https://ctsv.hust.edu.vn/#/hoc-bong/66/chi-tiet",
         "Ngữ cảnh cung cấp rõ ràng thông tin về hạn chót đăng ký online cho học bổng AI Bách khoa.",
         "5"
        ],
        [
         "44",
         "Chương trình học bổng Lọc hóa dầu Nghi Sơn năm 2022\nCăn cứ Thỏa thuận giữa Công ty TNHH Lọc hóa dầu Nghi Sơn và trường ĐHBKHN, Nhà trường thông báo Chương trình học bổng Lọc hóa dầu Nghi Sơn năm 2022 như sau:\n1) Đối tượng: \nCó hộ khẩu thường trú tại tỉnh Thanh Hóa trong vòng ít nhất 03 năm tính đến 01/09/2022;\nLà sinh viên Trường Cơ khí, Trường Điện - Điện tử, Viện Kỹ thuật hóa học;\nCó CPA đến hết kì 2021.1 từ 2,5 trở lên;\nCó ĐRL tích lũy đến hết kì 2021.1 từ 70 trở lên;\nƯu tiên sinh viên có hoàn cảnh gia đình thuộc hộ nghèo, cận nghèo, có hoàn cảnh kinh tế khó khăn (có xác nhận của địa phương năm 2022), sinh viên là con liệt sỹ, con thương, bệnh binh, chất độc da cam, con thanh niên xung phong, sinh viên khuyết tật, sinh viên mồ côi;\nKhông xét hồ sơ của sinh viên hệ liên thông (Cử nhân lên kỹ sư và Cao đẳng chuyển hệ);\nKhông xét hồ sơ của sinh viên đang trong quá trình xét các học bổng tài trợ khác hoặc đã nhận học bổng Trần Đại Nghĩa, hoặc học bổng tài trợ khác trong năm học 2021-2022. 2) Số lượng: 10 suất.",
         "Số lượng học bổng Lọc hóa dầu Nghi Sơn 2022 là bao nhiêu?",
         "10 suất",
         "https://ctsv.hust.edu.vn/#/hoc-bong/65/chi-tiet",
         "Ngữ cảnh nêu rõ số lượng học bổng là 10 suất.",
         "5"
        ],
        [
         "45",
         "3) Giá trị: 10.000.000đ/ suất. 4) Thời hạn đăng ký: đến hết ngày 20/08/2022. 5) Link đăng ký: https://forms.office.com/r/aF45KAnZyR. 6) Hồ sơ bản cứng bao gồm (sinh viên chỉ nộp hồ sơ bản cứng sau khi có kết quả xét chọn online từ Nhà trường):\nBản sao Sổ hộ khẩu có công chứng hoặc giấy xác nhận thông tin cư trú trong vòng 3 tháng kể từ ngày ký;\nBản phô tô công chứng căn cước công dân hoặc chứng minh nhân dân;\nBảng điểm kết quả học tập (tất cả các kỳ, có xác nhận của Phòng Đào tạo hoặc Trường/ Viện chuyên ngành);\nMẫu đề nghị tạo mã khách (có xác nhận của Nhà trường, tải tại đây);\nCác giấy tờ chứng minh hoàn cảnh khó khăn (nếu có) như: Giấy chứng nhận hộ nghèo, hộ cận nghèo; giấy xác nhận con liệt sỹ, con thương, bệnh binh, chất độc da cam, con thanh niên xung phong, thẻ người khuyết tật, sinh viên mồ côi; giấy xác nhận hoàn cảnh kinh tế gia đình khó khăn (có xác nhận của UBND xã, phường nơi gia đình sinh viên cư trú năm 2022).",
         "Giá trị học bổng Lọc hóa dầu Nghi Sơn 2022 là bao nhiêu?",
         "10.000.000đ/ suất",
         "https://ctsv.hust.edu.vn/#/hoc-bong/65/chi-tiet",
         "Ngữ cảnh cung cấp thông tin rõ ràng về giá trị của học bổng là 10.000.000đ/ suất.",
         "5"
        ],
        [
         "46",
         "Học Bổng Thắp sáng Tương lai 2022\nQuỹ học bổng Thắp sáng Tương lai (LUYF), một sáng kiến của Deloitte Việt Nam được triển khai từ năm 2012 thực sự đã là một sáng kiến đi trước và đồng mục tiêu với sáng kiến World class của Deloitte toàn cầu, mang trong mình sứ mệnh trao tuyền niềm tin vào sự tử tế, thắp sáng những ước mơ và khát vọng vượt khó vượt qua\nchính mình và vươn tới thành công hàng triệu các bạn sinh viên trong đó có cả những sinh viên khuyết tật. Sau 9 năm triển khai, LUYF đã trao cơ hội cho hơn 600 sinh viên, và kết nối tạo dựng một mạng lưới hơn 121 ngàn học sinh sinh viên đến từ các trường đại học trên cả nước – những sinh viên vượt qua khó khăn của hoàn cảnh và có khát vọng vươn lên trong học tập. Với những ý nghĩa đó, Quỹ học bổng Thắp sáng Tương lai chính thức khởi động mùa 10 với chủ đề “10 năm lan tỏa, kết nối và thắp sáng những ước mơ”, và mở rộng quy mô lên tới 200 suất học bổng. 1) Đối tượng:\nSinh viên K64, 65, 66 thuộc các ngành CNTT, Kinh tế, Tài chính'\nƯu tiên sinh viên có hoàn cảnh khó khăn, dân tộc thiểu số và có thành tích trong học tập và/hoặc hoạt động cộng đồng, xã hội;\nƯu tiên sinh viên có ý tưởng về các dự án khởi nghiệp/phi lợi nhuận hướng về cộng đồng;\nƯu tiên sinh viên khuyết tật trên cả nước thuộc mạng lưới của DRD. 2) Giá trị học bổng: tối đa 25.000.000đ/suất.",
         "Giá trị tối đa của học bổng Thắp sáng Tương lai 2022 là bao nhiêu?",
         "25.000.000đ/suất.",
         "https://ctsv.hust.edu.vn/#/hoc-bong/64/chi-tiet",
         "Ngữ cảnh cung cấp rõ ràng giá trị tối đa của học bổng là 25.000.000đ/suất.",
         "5"
        ],
        [
         "47",
         "3) Link đăng ký online: Tại đây. 4) Thông tin chi tiết và liên hệ khi có thắc mắc: https://www.facebook.com/LUYF.Alumni hoặc email: vnluyf@deloitte.com. 5) Hạn đăng ký: 15/08/2022.",
         "Hạn đăng ký Học Bổng Thắp sáng Tương lai 2022 là khi nào?",
         "15/08/2022",
         "https://ctsv.hust.edu.vn/#/hoc-bong/64/chi-tiet",
         "Ngữ cảnh cung cấp trực tiếp thông tin về hạn đăng ký là 15/08/2022, trả lời rõ ràng câu hỏi.",
         "5"
        ],
        [
         "48",
         "Chương trình học bổng của Tập đoàn Acecook năm học 2022-2023\nCăn cứ vào văn bản thỏa thuận giữa Tập đoàn Acecook và Trường Đại học Bách khoa Hà Nội về việc triển khai chương trình học bổng tài trợ, Nhà trường xin thông báo Chương trình học bổng như sau:\nĐối tượng xét chọn:\nSinh viên K62, 63, 64, 65, 66 của các Trường/Viện đào tạo. Điểm trung bình tích lũy CPA từ 3.33 trở lên;\nĐiểm rèn luyện kì 2021.1 từ 70 điểm trở lên;\nƯu tiên sinh viên có hoàn cảnh khó khăn (con của gia đình hộ nghèo hoặc cận nghèo/khuyết tật/ con thương binh/bệnh binh/liệt sĩ/mồ côi, … );\nƯu tiên sinh viên đạt thành tích hoặc có giải thưởng đặc biệt khác trong 2 năm gần nhất (thành tích tại các cuộc thi thể dục thể thao cấp trường trở lên, thành tích tại các cuộc thi học thuật cấp trường trở lên, thành tích cuộc thi văn hóa nghệ thuật cấp trường trở lên,…)\nƯu tiên sinh viên tích cực tham gia các hoạt động ngoại khóa, Đoàn Hội hoặc các hoạt động công tác xã hội trong 2 năm gần nhất;\nƯu tiên sinh viên có chứng chỉ tiếng Nhật;\nƯu tiên sinh viên có chứng chỉ tiếng Anh (IELTS từ 6.0 trở lên hoặc tương đương);\nKhông xét hồ sơ của sinh viên hệ liên thông (Cử nhân lên kỹ sư và Cao đẳng chuyển hệ);\nKhông xét hồ sơ của sinh viên đang trong quá trình xét các học bổng tài trợ khác hoặc đã nhận học bổng tài trợ khác trong năm học 2022-2023. Số lượng và mức học bổng:\nSố lượng: 15 suất;\nMức học bổng: 11.500.000đ/1 suất.",
         "mức học bổng acecook 2022-2023",
         "11.500.000đ/1 suất",
         "https://ctsv.hust.edu.vn/#/hoc-bong/63/chi-tiet",
         "Ngữ cảnh cung cấp thông tin chính xác và rõ ràng về mức học bổng Acecook năm học 2022-2023 là 11.500.000đ/1 suất.",
         "5"
        ],
        [
         "49",
         "Phương thức đăng kí học bổng: Sinh viên điền thông tin ứng tuyển online và upload bản scan (hoặc hình chụp) của các hồ sơ ứng tuyển tại link: https://scholarship.acecookcareer.com/ đến hết 24h00 ngày 05/08/2022. Hồ sơ bản cứng bao gồm:\nBảng điểm học tập có xác nhận CPA của Phòng Đào tạo hoặc Trường/Viện;\nGiấy xác nhận điểm rèn luyện kì 2021.1 (xin xác nhận tại Phòng Công tác sinh viên - P102-C1);\nSổ hộ nghèo/ cận nghèo, hoặc giấy xác nhận con thương binh, liệt sĩ/ khuyết tật/ mồ côi, gia đình gia đình có hoàn cảnh khó khăn… của địa phương năm 2022 (nếu có);\nGiấy chứng nhận giải thưởng đặc biệt khác trong 2 năm gần nhất (nếu có);\nGiấy chứng nhận tham gia các hoạt động ngoại khóa, Đoàn Hội hoặc các hoạt động công tác xã hội có xác nhận của đơn vị tổ chức trong 2 năm gần nhất (nếu có);\nChứng chỉ tiếng Anh (Tương đương Ielts 6.0) (nếu có);\nChứng chỉ tiếng Nhật (nếu có).",
         "Hạn chót nộp hồ sơ học bổng Acecook 2022-2023 là khi nào?",
         "24h00 ngày 05/08/2022",
         "https://ctsv.hust.edu.vn/#/hoc-bong/63/chi-tiet",
         "Ngữ cảnh nêu rõ hạn chót nộp hồ sơ là 24h00 ngày 05/08/2022, trả lời trực tiếp câu hỏi.",
         "5"
        ],
        [
         "50",
         "Giải thưởng KOVA lần thứ 20\nGiải thưởng KOVA là nỗ lực vì cộng đồng của Tập đoàn Sơn KOVA do PGS.TS Nguyễn Thị Hoè – Chủ tịch Tập đoàn Sơn KOVA sáng lập vào năm 2002. Giải thưởng KOVA ra đời với mục đích thúc đẩy các nghiên cứu khoa học vì cộng đồng; các hành động nhân văn, lan tỏa tinh thần sống đẹp trong xã hội và hỗ trợ cho sinh viên trên đất nước. Trải qua gần 20 năm, Giải thưởng KOVA đã tôn vinh, trao giải thưởng cho nhiều cá nhân và tập thể cũng như tiếp sức cho hàng ngàn em sinh viên trên cả nước. Năm 2022, Giải thưởng KOVA - Lần thứ 20 chính thức khởi động ở đầy đủ các hạng mục. Ban Vận hành Giải thưởng KOVA (từ Tập đoàn Sơn KOVA) thông tin chi tiết về các hạng mục dành cho sinh viên đăng ký tham gia như sau:  \n  Thông tin chung về hạng mục  \n+ Hạng mục Triển vọng (10 triệu đồng/ sinh viên): Dành cho các sinh viên học lực xuất sắc và có triển vọng trong nghiên cứu khoa học. Xem cụ thể tại đây. + Học bổng Nghị lực (10 triệu đồng/ sinh viên): Trao tặng Học bổng & đồng hành cùng các bạn sinh viên vượt khó học giỏi. Xem cụ thể tại đây.",
         "Ai sáng lập Giải thưởng KOVA?",
         "PGS.TS Nguyễn Thị Hoè – Chủ tịch Tập đoàn Sơn KOVA.",
         "https://ctsv.hust.edu.vn/#/hoc-bong/62/chi-tiet",
         "Ngữ cảnh nêu rõ người sáng lập Giải thưởng KOVA là PGS.TS Nguyễn Thị Hoè.",
         "5"
        ],
        [
         "51",
         "Thời hạn nộp hồ sơ bản cứng cho nhà trường (P103-C1, bàn số 2): đến hết ngày 13/7/2022  \nHồ sơ đăng ký: XEM TẠI ĐÂY",
         "Thời hạn nộp hồ sơ bản cứng Giải thưởng KOVA lần thứ 20 là khi nào?",
         "đến hết ngày 13/7/2022",
         "https://ctsv.hust.edu.vn/#/hoc-bong/62/chi-tiet",
         "Ngữ cảnh cung cấp trực tiếp và rõ ràng thời hạn nộp hồ sơ bản cứng được hỏi trong câu hỏi.",
         "5"
        ],
        [
         "52",
         "Chương trình học bổng của Tập đoàn IHI năm học 2021-2022\nCăn cứ Biên bản thỏa thuận hợp tác giữa Tập đoàn IHI và Trường Đại học Bách khoa Hà Nội về việc triển khai chương trình học bổng IHI năm học 2021-2022; căn cứ tiêu chí xét chọn của học bổng, Nhà trường xin thông báo Chương trình học bổng IHI với các nội dung sau:\nĐối tượng xét chọn:\nSinh viên hệ kỹ sư K63 ngành Cơ khí, Cơ khí động lực và Điện. Kết quả học tập CPA từ 3.0 trở lên.",
         "Đối tượng nhận học bổng IHI 2021-2022 là ai?",
         "Sinh viên hệ kỹ sư K63 ngành Cơ khí, Cơ khí động lực và Điện có CPA từ 3.0 trở lên.",
         "https://ctsv.hust.edu.vn/#/hoc-bong/61/chi-tiet",
         "Ngữ cảnh cung cấp rõ ràng thông tin về đối tượng xét chọn học bổng, bao gồm ngành học, khóa học và yêu cầu về kết quả học tập.",
         "5"
        ],
        [
         "53",
         "Ưu tiên sinh viên có hoàn cảnh khó khăn vươn lên trong học tập (hộ nghèo, hộ cận nghèo, hộ có hoàn cảnh khó khăn năm 2022). Số lượng học bổng: 10 suất, trị giá 600 USD/suất. Sinh viên đăng ký học bổng theo các bước sau:\nBước 1: Sinh viên đăng ký online tại đây trước ngày 24/6/2022. Bước 2: Sau khi Nhà trường thông báo kết quả sơ loại, những sinh viên đủ điều kiện sẽ nộp hồ sơ bản cứng. Hồ sơ bản cứng gồm:\nĐơn xin cấp học bổng. Bảng điểm kết quả học tập có xác nhận của Phòng ĐT hoặc Viện chuyên ngành. Bản sao sổ hộ nghèo, cận nghèo, giấy xác nhận hộ có hoàn cảnh khó khăn năm 2022 có xác nhận của địa phương).",
         "Hạn chót đăng ký online học bổng IHI 2021-2022 là khi nào?",
         "trước ngày 24/6/2022",
         "https://ctsv.hust.edu.vn/#/hoc-bong/61/chi-tiet",
         "Ngữ cảnh cung cấp chính xác thông tin về hạn chót đăng ký online học bổng là trước ngày 24/6/2022, trả lời rõ ràng câu hỏi.",
         "5"
        ],
        [
         "56",
         "Chương trình học bổng khóa học tiếng Nhật do tỉnh SHIGA, Nhật Bản tài trợ\nTrường Đại học Bách Khoa Hà Nội trân trọng thông báo Chương trình học bổng khóa học tiếng Nhật do tỉnh SHIGA, Nhật Bản tài trợ dành cho sinh viên có mong muốn làm việc tại Nhật Bản sau khi tốt nghiệp như sau:\nNội dung chương trình học bổng:\nĐối tượng: Sinh viên ĐHBK Hà Nội từ năm 3 thuộc tất cả các ngành (ưu tiên sinh viên năm thứ 3 và sinh viên có mong muốn làm việc tại Nhật Bản sau khi tốt nghiệp). Nội dung giảng dạy tiếng Nhật: Đào tạo sinh viên từ CHƯA BIẾT TIẾNG NHẬT đến trình độ N4\nSố lượng dự kiến: 30 suất học bổng;\nLịch học dự kiến: 3 buổi/tuần, 1 buổi học 3 tiết, 1 tiết 45 phút;\nThời gian khóa học: Giai đoạn 1: 0-N5 (330 tiết), Giai đoạn 2: N5-N4: 240 tiết;\nĐịa điểm: Viện Đào tạo liên tục, ĐHBKHN - 94 Lê Thanh Nghị, HBT, HN. Thời gian và lịch trình xét tuyển:\nĐăng kí trực tuyến: Trước 11h30, ngày 17/5/2022;\nLink đăng ký: https://forms.office.com/r/Y62wR8NkSr\nThời gian phỏng vấn dự kiến: Đợt 1: Ngày 18/5/2022; Đợt 2: Ngày 26/5/2022. Khai giảng dự kiến: 03/06/2022.",
         "Chương trình học bổng tiếng Nhật do tỉnh nào của Nhật Bản tài trợ?",
         "SHIGA",
         "https://ctsv.hust.edu.vn/#/hoc-bong/59/chi-tiet",
         "Ngữ cảnh nêu rõ chương trình học bổng được tài trợ bởi tỉnh SHIGA, Nhật Bản, trả lời trực tiếp và rõ ràng câu hỏi.",
         "5"
        ],
        [
         "57",
         "Học phí và cam kết tham dự chương trình học bổng:\nSinh viên đạt kết quả phỏng vấn được cấp học bổng 100%. Cam kết tham dự: để đảm bảo sinh viên tham gia chương trình đầy đủ với quyết tâm cao, sinh viên trúng tuyển sẽ đặt cọc số tiền 01 triệu đồng. Sinh viên sẽ được hoàn lại số tiền này sau khi kết thúc khóa học với các điều kiện:\n+ Tham dự tối thiểu 80% thời lượng khóa học;\n+ Tham gia các buổi phỏng vấn, sự kiện tuyển dụng do tỉnh Shiga tổ chức. Thông tin liên hệ:\n(Cô) Nguyễn Thị Anh Thư: nguyenthianh@hust.edu.vn(Teams);\nĐịa chỉ: Phòng Công tác sinh viên: P103-C1 (bàn 2).",
         "Số tiền đặt cọc cho học bổng tiếng Nhật Shiga là bao nhiêu?",
         "01 triệu đồng",
         "https://ctsv.hust.edu.vn/#/hoc-bong/59/chi-tiet",
         "Ngữ cảnh nêu rõ số tiền đặt cọc là 01 triệu đồng, trả lời trực tiếp và đầy đủ câu hỏi.",
         "5"
        ],
        [
         "58",
         "Chương trình học bổng Daizo Tec năm học 2022-2023\nCăn cứ vào Thỏa thuận được ký kết giữa Công ty TNHH Daizo Tec và Trường Đại học Bách khoa Hà Nội về việc triển khai chương trình học bổng Daizo Tec; căn cứ tiêu chí xét chọn học bổng, Nhà trường xin thông báo Chương trình học bổng Daizo Tec với các nội dung sau:\nĐối tượng xét chọn:\nSinh viên K64 (trình độ năm thứ 3) thuộc các chuyên ngành: Kỹ thuật tàu thủy, Kỹ thuật cơ khí động lực – Phương tiện thủy thông minh, Kỹ thuật cơ khí, Kỹ thuật cơ điện tử (Trường Cơ khí); Kỹ thuật Điện, Kỹ thuật Điều khiển và Tự động Hóa (Trường Điện, Điện tử). Điểm trung bình tích lũy CPA từ 3.0 trở lên.",
         "Điểm trung bình tích lũy tối thiểu để nhận học bổng Daizo Tec là bao nhiêu?",
         "3.0",
         "https://ctsv.hust.edu.vn/#/hoc-bong/58/chi-tiet",
         "Ngữ cảnh nêu rõ điểm trung bình tích lũy tối thiểu (CPA) cần thiết để nhận học bổng Daizo Tec là 3.0 trở lên, trả lời trực tiếp và rõ ràng câu hỏi.",
         "5"
        ],
        [
         "59",
         "Điểm rèn luyện kì 20201 từ 70 trở lên. Ưu tiên sinh viên có hoàn cảnh khó khăn đạt kết quả học tập tốt. Không xét hồ sơ của sinh viên hệ liên thông: Cử nhân lên kỹ sư, Cao đẳng chuyển hệ. Số lượng học bổng: 04 suất. Trị giá 600 USD/suất. Cách thức đăng ký:\n+ Bước 1: Sinh viên đăng ký online từ ngày 19/4/2022 đến ngày 24/4/2022 TẠI ĐÂY. + Bước 2: Sinh viên tham gia phỏng vấn với chuyên gia của Công ty. Lưu ý:\nHọc bổng Daizo Tec sẽ được trao vào tháng 9/2022 và sẽ được tính vào năm học 2022-2023. Sinh viên nhận Học bổng Daizo Tec sẽ không nhận Học bổng nào khác trong năm học 2021-2023. Sinh viên nhận học bổng Daizo Tec có nghĩa vụ phải viết báo cáo 02 lần/năm cho công ty về tình hình học tập tại trường.",
         "Trị giá học bổng Daizo Tec là bao nhiêu?",
         "600 USD/suất.",
         "https://ctsv.hust.edu.vn/#/hoc-bong/58/chi-tiet",
         "Ngữ cảnh nêu rõ trị giá của học bổng Daizo Tec là 600 USD/suất, trả lời trực tiếp và rõ ràng câu hỏi.",
         "5"
        ]
       ],
       "shape": {
        "columns": 6,
        "rows": 132
       }
      },
      "text/html": [
       "<div>\n",
       "<style scoped>\n",
       "    .dataframe tbody tr th:only-of-type {\n",
       "        vertical-align: middle;\n",
       "    }\n",
       "\n",
       "    .dataframe tbody tr th {\n",
       "        vertical-align: top;\n",
       "    }\n",
       "\n",
       "    .dataframe thead th {\n",
       "        text-align: right;\n",
       "    }\n",
       "</style>\n",
       "<table border=\"1\" class=\"dataframe\">\n",
       "  <thead>\n",
       "    <tr style=\"text-align: right;\">\n",
       "      <th></th>\n",
       "      <th>context</th>\n",
       "      <th>question</th>\n",
       "      <th>answer</th>\n",
       "      <th>source_doc</th>\n",
       "      <th>evaluation</th>\n",
       "      <th>score</th>\n",
       "    </tr>\n",
       "  </thead>\n",
       "  <tbody>\n",
       "    <tr>\n",
       "      <th>0</th>\n",
       "      <td>Chương trình học bổng Daizo Tec năm học 2023-2...</td>\n",
       "      <td>Điểm trung bình tích lũy cần đạt để nhận học b...</td>\n",
       "      <td>Từ 3.0 trở lên</td>\n",
       "      <td>https://ctsv.hust.edu.vn/#/hoc-bong/92/chi-tiet</td>\n",
       "      <td>Ngữ cảnh nêu rõ điểm trung bình tích lũy cần đ...</td>\n",
       "      <td>5</td>\n",
       "    </tr>\n",
       "    <tr>\n",
       "      <th>1</th>\n",
       "      <td>Điểm rèn luyện kì 20212 từ 70 trở lên. Ưu tiên...</td>\n",
       "      <td>Học bổng Daizo Tec năm 2023-2024 trị giá bao n...</td>\n",
       "      <td>600 USD/suất.</td>\n",
       "      <td>https://ctsv.hust.edu.vn/#/hoc-bong/92/chi-tiet</td>\n",
       "      <td>Ngữ cảnh nêu rõ trị giá học bổng Daizo Tec là ...</td>\n",
       "      <td>5</td>\n",
       "    </tr>\n",
       "    <tr>\n",
       "      <th>2</th>\n",
       "      <td>Học bổng Khuyến khích học tập học kỳ I năm học...</td>\n",
       "      <td>Học bổng Khuyến khích học tập là của học kỳ nào?</td>\n",
       "      <td>học kỳ I năm học 2022-2023</td>\n",
       "      <td>https://ctsv.hust.edu.vn/#/hoc-bong/91/chi-tiet</td>\n",
       "      <td>Ngữ cảnh cung cấp rõ ràng thông tin về học kỳ ...</td>\n",
       "      <td>5</td>\n",
       "    </tr>\n",
       "    <tr>\n",
       "      <th>4</th>\n",
       "      <td>Chương trình học bổng LG Display năm học 2022-...</td>\n",
       "      <td>Học bổng LG Display 2022-2023 trị giá bao nhiêu?</td>\n",
       "      <td>35.000.000 VND/suất.</td>\n",
       "      <td>https://ctsv.hust.edu.vn/#/hoc-bong/85/chi-tiet</td>\n",
       "      <td>Ngữ cảnh cung cấp thông tin rõ ràng và chính x...</td>\n",
       "      <td>5</td>\n",
       "    </tr>\n",
       "    <tr>\n",
       "      <th>5</th>\n",
       "      <td>- Sinh viên sau khi có kết quả xét vòng thứ 1 ...</td>\n",
       "      <td>Nộp hồ sơ bản cứng học bổng LG Display khi nào?</td>\n",
       "      <td>Sau khi có kết quả phỏng vấn.</td>\n",
       "      <td>https://ctsv.hust.edu.vn/#/hoc-bong/85/chi-tiet</td>\n",
       "      <td>Ngữ cảnh nêu rõ thời điểm nộp hồ sơ bản cứng l...</td>\n",
       "      <td>5</td>\n",
       "    </tr>\n",
       "    <tr>\n",
       "      <th>...</th>\n",
       "      <td>...</td>\n",
       "      <td>...</td>\n",
       "      <td>...</td>\n",
       "      <td>...</td>\n",
       "      <td>...</td>\n",
       "      <td>...</td>\n",
       "    </tr>\n",
       "    <tr>\n",
       "      <th>153</th>\n",
       "      <td>Chương trình học bổng hỗ trợ học tập (HTHT) ch...</td>\n",
       "      <td>Học bổng hỗ trợ học tập (HTHT) dành cho đối tư...</td>\n",
       "      <td>sinh viên K64 (Đợt 2)</td>\n",
       "      <td>https://ctsv.hust.edu.vn/#/hoc-bong/7/chi-tiet</td>\n",
       "      <td>Ngữ cảnh chỉ rõ học bổng dành cho \"sinh viên K...</td>\n",
       "      <td>4</td>\n",
       "    </tr>\n",
       "    <tr>\n",
       "      <th>154</th>\n",
       "      <td>Hướng dẫn về BHYT và sử dụng thẻ BHYT khám, ch...</td>\n",
       "      <td>Số tài khoản nộp tiền BHYT các đợt bổ sung là gì?</td>\n",
       "      <td>1222113656</td>\n",
       "      <td>https://ctsv.hust.edu.vn/#/so-tay-sv/70/huong-...</td>\n",
       "      <td>Ngữ cảnh cung cấp rõ ràng số tài khoản và thôn...</td>\n",
       "      <td>5</td>\n",
       "    </tr>\n",
       "    <tr>\n",
       "      <th>155</th>\n",
       "      <td>2. Đối với sinh viên khóa mới nhập học - K69:\\...</td>\n",
       "      <td>Địa điểm khám chữa bệnh BHYT ban đầu cho sinh ...</td>\n",
       "      <td>Trung Tâm Y tế Bách Khoa số 5 Phố Tạ Quang Bửu.</td>\n",
       "      <td>https://ctsv.hust.edu.vn/#/so-tay-sv/70/huong-...</td>\n",
       "      <td>Ngữ cảnh cung cấp rõ ràng địa điểm đăng ký khá...</td>\n",
       "      <td>5</td>\n",
       "    </tr>\n",
       "    <tr>\n",
       "      <th>156</th>\n",
       "      <td>Sổ khám bệnh (nếu có). Chú ý:\\nTrường hợp muốn...</td>\n",
       "      <td>Địa điểm đổi nơi khám chữa bệnh ban đầu BHYT ở...</td>\n",
       "      <td>Bảo hiểm xã hội Quận Hai Bà Trưng (số 106 phố ...</td>\n",
       "      <td>https://ctsv.hust.edu.vn/#/so-tay-sv/70/huong-...</td>\n",
       "      <td>Ngữ cảnh cung cấp rõ ràng địa điểm cụ thể để t...</td>\n",
       "      <td>5</td>\n",
       "    </tr>\n",
       "    <tr>\n",
       "      <th>159</th>\n",
       "      <td>Các Quy định và Biểu mẫu thường dùng\\nCập nhật...</td>\n",
       "      <td>Qui chế đào tạo ban hành năm nào?</td>\n",
       "      <td>2023</td>\n",
       "      <td>https://ctsv.hust.edu.vn/#/so-tay-sv/68/cac-qu...</td>\n",
       "      <td>Ngữ cảnh ghi rõ \"Qui chế đào tạo (ban hành năm...</td>\n",
       "      <td>5</td>\n",
       "    </tr>\n",
       "  </tbody>\n",
       "</table>\n",
       "<p>132 rows × 6 columns</p>\n",
       "</div>"
      ],
      "text/plain": [
       "                                               context  \\\n",
       "0    Chương trình học bổng Daizo Tec năm học 2023-2...   \n",
       "1    Điểm rèn luyện kì 20212 từ 70 trở lên. Ưu tiên...   \n",
       "2    Học bổng Khuyến khích học tập học kỳ I năm học...   \n",
       "4    Chương trình học bổng LG Display năm học 2022-...   \n",
       "5    - Sinh viên sau khi có kết quả xét vòng thứ 1 ...   \n",
       "..                                                 ...   \n",
       "153  Chương trình học bổng hỗ trợ học tập (HTHT) ch...   \n",
       "154  Hướng dẫn về BHYT và sử dụng thẻ BHYT khám, ch...   \n",
       "155  2. Đối với sinh viên khóa mới nhập học - K69:\\...   \n",
       "156  Sổ khám bệnh (nếu có). Chú ý:\\nTrường hợp muốn...   \n",
       "159  Các Quy định và Biểu mẫu thường dùng\\nCập nhật...   \n",
       "\n",
       "                                              question  \\\n",
       "0    Điểm trung bình tích lũy cần đạt để nhận học b...   \n",
       "1    Học bổng Daizo Tec năm 2023-2024 trị giá bao n...   \n",
       "2     Học bổng Khuyến khích học tập là của học kỳ nào?   \n",
       "4     Học bổng LG Display 2022-2023 trị giá bao nhiêu?   \n",
       "5      Nộp hồ sơ bản cứng học bổng LG Display khi nào?   \n",
       "..                                                 ...   \n",
       "153  Học bổng hỗ trợ học tập (HTHT) dành cho đối tư...   \n",
       "154  Số tài khoản nộp tiền BHYT các đợt bổ sung là gì?   \n",
       "155  Địa điểm khám chữa bệnh BHYT ban đầu cho sinh ...   \n",
       "156  Địa điểm đổi nơi khám chữa bệnh ban đầu BHYT ở...   \n",
       "159                  Qui chế đào tạo ban hành năm nào?   \n",
       "\n",
       "                                                answer  \\\n",
       "0                                       Từ 3.0 trở lên   \n",
       "1                                        600 USD/suất.   \n",
       "2                           học kỳ I năm học 2022-2023   \n",
       "4                                 35.000.000 VND/suất.   \n",
       "5                        Sau khi có kết quả phỏng vấn.   \n",
       "..                                                 ...   \n",
       "153                              sinh viên K64 (Đợt 2)   \n",
       "154                                         1222113656   \n",
       "155    Trung Tâm Y tế Bách Khoa số 5 Phố Tạ Quang Bửu.   \n",
       "156  Bảo hiểm xã hội Quận Hai Bà Trưng (số 106 phố ...   \n",
       "159                                               2023   \n",
       "\n",
       "                                            source_doc  \\\n",
       "0      https://ctsv.hust.edu.vn/#/hoc-bong/92/chi-tiet   \n",
       "1      https://ctsv.hust.edu.vn/#/hoc-bong/92/chi-tiet   \n",
       "2      https://ctsv.hust.edu.vn/#/hoc-bong/91/chi-tiet   \n",
       "4      https://ctsv.hust.edu.vn/#/hoc-bong/85/chi-tiet   \n",
       "5      https://ctsv.hust.edu.vn/#/hoc-bong/85/chi-tiet   \n",
       "..                                                 ...   \n",
       "153     https://ctsv.hust.edu.vn/#/hoc-bong/7/chi-tiet   \n",
       "154  https://ctsv.hust.edu.vn/#/so-tay-sv/70/huong-...   \n",
       "155  https://ctsv.hust.edu.vn/#/so-tay-sv/70/huong-...   \n",
       "156  https://ctsv.hust.edu.vn/#/so-tay-sv/70/huong-...   \n",
       "159  https://ctsv.hust.edu.vn/#/so-tay-sv/68/cac-qu...   \n",
       "\n",
       "                                            evaluation  score  \n",
       "0    Ngữ cảnh nêu rõ điểm trung bình tích lũy cần đ...      5  \n",
       "1    Ngữ cảnh nêu rõ trị giá học bổng Daizo Tec là ...      5  \n",
       "2    Ngữ cảnh cung cấp rõ ràng thông tin về học kỳ ...      5  \n",
       "4    Ngữ cảnh cung cấp thông tin rõ ràng và chính x...      5  \n",
       "5    Ngữ cảnh nêu rõ thời điểm nộp hồ sơ bản cứng l...      5  \n",
       "..                                                 ...    ...  \n",
       "153  Ngữ cảnh chỉ rõ học bổng dành cho \"sinh viên K...      4  \n",
       "154  Ngữ cảnh cung cấp rõ ràng số tài khoản và thôn...      5  \n",
       "155  Ngữ cảnh cung cấp rõ ràng địa điểm đăng ký khá...      5  \n",
       "156  Ngữ cảnh cung cấp rõ ràng địa điểm cụ thể để t...      5  \n",
       "159  Ngữ cảnh ghi rõ \"Qui chế đào tạo (ban hành năm...      5  \n",
       "\n",
       "[132 rows x 6 columns]"
      ]
     },
     "execution_count": 20,
     "metadata": {},
     "output_type": "execute_result"
    }
   ],
   "source": [
    "import pandas as pd\n",
    "eval_data_full = pd.read_csv(\"data/eval_dataset_with_score.csv\")\n",
    "eval_data = eval_data_full[eval_data_full['score'] >= 3]\n",
    "eval_data"
   ]
  },
  {
   "cell_type": "code",
   "execution_count": 12,
   "id": "19c9c747",
   "metadata": {},
   "outputs": [],
   "source": [
    "# index = faiss.IndexFlatL2(len(hf.embed_query(\"Xin chào.\")))\n",
    "vectorstore = FAISS(\n",
    "    embedding_function=hf,\n",
    "    index = index,\n",
    "    docstore=InMemoryDocstore(),\n",
    "    index_to_docstore_id={},\n",
    ")\n",
    "\n",
    "uuids = [str(uuid4()) for _ in range(len(data))]\n",
    "vectorstore.add_documents(documents=data, ids=uuids)\n",
    "retriever = vectorstore.as_retriever(search_kwargs={\"k\": 10})"
   ]
  },
  {
   "cell_type": "code",
   "execution_count": 15,
   "id": "2ed048f0",
   "metadata": {},
   "outputs": [],
   "source": [
    "eval_questions = list(eval_data['question'])\n",
    "eval_ground_truth = list(eval_data['context'])\n",
    "eval_ground_truth\n",
    "eval_answers = list(eval_data['answer'])"
   ]
  },
  {
   "cell_type": "code",
   "execution_count": 18,
   "id": "bf39b322",
   "metadata": {},
   "outputs": [
    {
     "name": "stdout",
     "output_type": "stream",
     "text": [
      "\u001b[0;31mSignature:\u001b[0m \u001b[0mretrieve_documents\u001b[0m\u001b[0;34m(\u001b[0m\u001b[0mquery\u001b[0m\u001b[0;34m:\u001b[0m \u001b[0mstr\u001b[0m\u001b[0;34m,\u001b[0m \u001b[0mretriever\u001b[0m\u001b[0;34m)\u001b[0m \u001b[0;34m->\u001b[0m \u001b[0mList\u001b[0m\u001b[0;34m[\u001b[0m\u001b[0mlangchain_core\u001b[0m\u001b[0;34m.\u001b[0m\u001b[0mdocuments\u001b[0m\u001b[0;34m.\u001b[0m\u001b[0mbase\u001b[0m\u001b[0;34m.\u001b[0m\u001b[0mDocument\u001b[0m\u001b[0;34m]\u001b[0m\u001b[0;34m\u001b[0m\u001b[0;34m\u001b[0m\u001b[0m\n",
      "\u001b[0;31mDocstring:\u001b[0m <no docstring>\n",
      "\u001b[0;31mSource:\u001b[0m   \n",
      "\u001b[0;32mdef\u001b[0m \u001b[0mretrieve_documents\u001b[0m\u001b[0;34m(\u001b[0m\u001b[0mquery\u001b[0m\u001b[0;34m:\u001b[0m \u001b[0mstr\u001b[0m\u001b[0;34m,\u001b[0m \u001b[0mretriever\u001b[0m\u001b[0;34m)\u001b[0m \u001b[0;34m->\u001b[0m \u001b[0mList\u001b[0m\u001b[0;34m[\u001b[0m\u001b[0mDocument\u001b[0m\u001b[0;34m]\u001b[0m\u001b[0;34m:\u001b[0m\u001b[0;34m\u001b[0m\n",
      "\u001b[0;34m\u001b[0m    \u001b[0mdocs\u001b[0m \u001b[0;34m=\u001b[0m \u001b[0mretriever\u001b[0m\u001b[0;34m.\u001b[0m\u001b[0minvoke\u001b[0m\u001b[0;34m(\u001b[0m\u001b[0mquery\u001b[0m\u001b[0;34m)\u001b[0m\u001b[0;34m\u001b[0m\n",
      "\u001b[0;34m\u001b[0m\u001b[0;34m\u001b[0m\n",
      "\u001b[0;34m\u001b[0m    \u001b[0msegmented_question\u001b[0m \u001b[0;34m=\u001b[0m \u001b[0mtokenize\u001b[0m\u001b[0;34m(\u001b[0m\u001b[0mquery\u001b[0m\u001b[0;34m)\u001b[0m\u001b[0;34m\u001b[0m\n",
      "\u001b[0;34m\u001b[0m    \u001b[0msegmented_documents\u001b[0m \u001b[0;34m=\u001b[0m \u001b[0;34m[\u001b[0m\u001b[0mtokenize\u001b[0m\u001b[0;34m(\u001b[0m\u001b[0mdoc\u001b[0m\u001b[0;34m.\u001b[0m\u001b[0mpage_content\u001b[0m\u001b[0;34m)\u001b[0m \u001b[0;32mfor\u001b[0m \u001b[0mdoc\u001b[0m \u001b[0;32min\u001b[0m \u001b[0mdocs\u001b[0m\u001b[0;34m]\u001b[0m\u001b[0;34m\u001b[0m\n",
      "\u001b[0;34m\u001b[0m    \u001b[0mtokenized_pairs\u001b[0m \u001b[0;34m=\u001b[0m \u001b[0;34m[\u001b[0m\u001b[0;34m[\u001b[0m\u001b[0msegmented_question\u001b[0m\u001b[0;34m,\u001b[0m \u001b[0msent\u001b[0m\u001b[0;34m]\u001b[0m \u001b[0;32mfor\u001b[0m \u001b[0msent\u001b[0m \u001b[0;32min\u001b[0m \u001b[0msegmented_documents\u001b[0m\u001b[0;34m]\u001b[0m\u001b[0;34m\u001b[0m\n",
      "\u001b[0;34m\u001b[0m\u001b[0;34m\u001b[0m\n",
      "\u001b[0;34m\u001b[0m    \u001b[0mscores\u001b[0m \u001b[0;34m=\u001b[0m \u001b[0mmodel\u001b[0m\u001b[0;34m.\u001b[0m\u001b[0mpredict\u001b[0m\u001b[0;34m(\u001b[0m\u001b[0mtokenized_pairs\u001b[0m\u001b[0;34m)\u001b[0m\u001b[0;34m\u001b[0m\n",
      "\u001b[0;34m\u001b[0m    \u001b[0mtop_ids\u001b[0m \u001b[0;34m=\u001b[0m \u001b[0mnp\u001b[0m\u001b[0;34m.\u001b[0m\u001b[0margsort\u001b[0m\u001b[0;34m(\u001b[0m\u001b[0mscores\u001b[0m\u001b[0;34m)\u001b[0m\u001b[0;34m[\u001b[0m\u001b[0;34m:\u001b[0m\u001b[0;34m:\u001b[0m\u001b[0;34m-\u001b[0m\u001b[0;36m1\u001b[0m\u001b[0;34m]\u001b[0m\u001b[0;34m[\u001b[0m\u001b[0;34m:\u001b[0m\u001b[0;36m5\u001b[0m\u001b[0;34m]\u001b[0m\u001b[0;34m\u001b[0m\n",
      "\u001b[0;34m\u001b[0m    \u001b[0mtop_documents\u001b[0m \u001b[0;34m=\u001b[0m \u001b[0;34m[\u001b[0m\u001b[0mdocs\u001b[0m\u001b[0;34m[\u001b[0m\u001b[0mi\u001b[0m\u001b[0;34m]\u001b[0m \u001b[0;32mfor\u001b[0m \u001b[0mi\u001b[0m \u001b[0;32min\u001b[0m \u001b[0mtop_ids\u001b[0m\u001b[0;34m]\u001b[0m\u001b[0;34m\u001b[0m\n",
      "\u001b[0;34m\u001b[0m    \u001b[0;32mreturn\u001b[0m \u001b[0mtop_documents\u001b[0m\u001b[0;34m\u001b[0m\u001b[0;34m\u001b[0m\u001b[0m\n",
      "\u001b[0;31mFile:\u001b[0m      ~/Documents/Code/uni-guider/src/chatbot/rag/retrieval.py\n",
      "\u001b[0;31mType:\u001b[0m      function"
     ]
    }
   ],
   "source": [
    "retrieve_documents??"
   ]
  },
  {
   "cell_type": "code",
   "execution_count": 19,
   "id": "c336746c",
   "metadata": {},
   "outputs": [],
   "source": [
    "responses_list = []\n",
    "for eval_question in eval_questions:\n",
    "    responses = []\n",
    "    res_list = [doc.page_content for doc in retrieve_documents(eval_question, retriever)]\n",
    "    responses.extend(res_list)\n",
    "    responses_list.append(responses)"
   ]
  },
  {
   "cell_type": "code",
   "execution_count": 26,
   "id": "02763d4a",
   "metadata": {},
   "outputs": [
    {
     "name": "stdout",
     "output_type": "stream",
     "text": [
      "0.5050781249999999\n"
     ]
    },
    {
     "data": {
      "text/plain": [
       "0.6015625"
      ]
     },
     "execution_count": 26,
     "metadata": {},
     "output_type": "execute_result"
    }
   ],
   "source": [
    "import src.chatbot.evaluation\n",
    "import importlib\n",
    "importlib.reload(src.chatbot.evaluation)\n",
    "from src.chatbot.evaluation import calculate_mrr, hit_rate_at_k\n",
    "print(calculate_mrr(responses_list, eval_ground_truth))\n",
    "hit_rate_at_k(responses_list, eval_ground_truth, k = 3)"
   ]
  },
  {
   "cell_type": "code",
   "execution_count": 27,
   "id": "447bea6b",
   "metadata": {},
   "outputs": [
    {
     "data": {
      "image/png": "[encoded data removed]",
      "text/plain": [
       "<Figure size 800x500 with 1 Axes>"
      ]
     },
     "metadata": {},
     "output_type": "display_data"
    }
   ],
   "source": [
    "import matplotlib.pyplot as plt\n",
    "top_ks = [1, 3, 5, 10]\n",
    "mrr = [0.42, 0.48, 0.51, 0.56]\n",
    "hit_rate = [0.55, 0.67, 0.74, 0.82]\n",
    "precision = [0.55, 0.45, 0.38, 0.29]\n",
    "\n",
    "# Line plot\n",
    "plt.figure(figsize=(8, 5))\n",
    "plt.plot(top_ks, mrr, marker='o', label='MRR@K')\n",
    "plt.plot(top_ks, hit_rate, marker='s', label='Hit Rate@K')\n",
    "plt.plot(top_ks, precision, marker='^', label='Precision@K')\n",
    "plt.xlabel('Top-K')\n",
    "plt.ylabel('Score')\n",
    "plt.title('Retriever Performance across Top-K')\n",
    "plt.xticks(top_ks)\n",
    "plt.ylim(0, 1)\n",
    "plt.legend()\n",
    "plt.grid(True)\n",
    "plt.tight_layout()\n",
    "plt.savefig(\"retriever_metrics.png\", dpi=300)\n",
    "plt.show()"
   ]
  },
  {
   "cell_type": "code",
   "execution_count": null,
   "id": "5c1f9e14",
   "metadata": {},
   "outputs": [],
   "source": []
  }
 ],
 "metadata": {
  "kernelspec": {
   "display_name": "uni_guider",
   "language": "python",
   "name": "python3"
  },
  "language_info": {
   "codemirror_mode": {
    "name": "ipython",
    "version": 3
   },
   "file_extension": ".py",
   "mimetype": "text/x-python",
   "name": "python",
   "nbconvert_exporter": "python",
   "pygments_lexer": "ipython3",
   "version": "3.9.21"
  }
 },
 "nbformat": 4,
 "nbformat_minor": 5
}
